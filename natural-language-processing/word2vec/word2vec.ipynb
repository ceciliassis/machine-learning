{
 "cells": [
  {
   "cell_type": "markdown",
   "metadata": {},
   "source": [
    "# Word2Vec\n",
    "\n",
    "### Author: Cecília Assis\n",
    "#### Github: https://github.com/ceciliassis\n",
    "#### Linkedin: https://www.linkedin.com/in/ceciliassis/"
   ]
  },
  {
   "cell_type": "code",
   "execution_count": 1,
   "metadata": {},
   "outputs": [],
   "source": [
    "import logging  # Setting up the loggings to monitor gensim\n",
    "logging.basicConfig(format=\"%(levelname)s - %(asctime)s: %(message)s\", datefmt= '%H:%M:%S', level=logging.INFO)\n",
    "logger = logging.getLogger(__name__)"
   ]
  },
  {
   "cell_type": "code",
   "execution_count": 144,
   "metadata": {},
   "outputs": [],
   "source": [
    "HEADERS = {\n",
    "    'User-Agent': (\n",
    "        'Mozilla/5.0 (Macintosh; Intel Mac OS X 10_11_5) AppleWebKit/537.36'\n",
    "        '(KHTML, like Gecko) Chrome/50.0.2661.102 Safari/537.36'\n",
    "    )\n",
    "}\n",
    "\n",
    "urls = [\n",
    "    'https://take.net/blog/4devs/nlp-processamento-linguagem-natural/',\n",
    "    'https://take.net/blog/4devs/nlp-chatbot/',\n",
    "    'https://take.net/blog/4devs/cursos-para-aprender-sobre-chatbots/',\n",
    "    'https://take.net/blog/inovacao/motivos-usar-inteligencia-artificial/',\n",
    "    'https://take.net/blog/chatbots/algoritmos-inteligencia-artificial-crime/',\n",
    "    'https://take.net/blog/chatbots/inteligencia-artificial-no-blip/',\n",
    "    'https://take.net/blog/devs/trabalhar-com-inteligencia-artificial/',\n",
    "    'https://take.net/blog/inovacao/sucesso-do-cliente-e-inteligencia-artificial/',\n",
    "    'https://take.net/blog/take-test/testes-em-chatbots-com-nlp/',\n",
    "    'https://take.net/blog/chatbots/chatbot/',\n",
    "    'https://take.net/blog/inovacao/big-data/',\n",
    "    'https://take.net/blog/inovacao/big-data-no-trabalho/',\n",
    "    'https://take.net/blog/inovacao/transformacao-digital/'\n",
    "]"
   ]
  },
  {
   "cell_type": "code",
   "execution_count": 3,
   "metadata": {},
   "outputs": [],
   "source": [
    "# Define stric set of punctuations due to pre processing and Portuguese characteristics (ex. trata-se)\n",
    "PUNCTUATIONS = ['*', '+', '.', '/', '[', ']', '(', ')', ';', ':', '%', 'º',\n",
    "                '=', '!', '\"','“', \"'\", \"”\", \"#\", '{', '}', ',', '\\?']\n",
    "PUNCTUATIONS_STR = ''.join(PUNCTUATIONS)"
   ]
  },
  {
   "cell_type": "code",
   "execution_count": 4,
   "metadata": {},
   "outputs": [],
   "source": [
    "import spacy\n",
    "\n",
    "# Load spacy lang\n",
    "try:\n",
    "    spacy.load('pt', disable=['ner'])\n",
    "except OSError:\n",
    "    !python -m spacy download pt\n",
    "finally:\n",
    "    PT_LANG = spacy.load('pt', disable=['ner'])"
   ]
  },
  {
   "cell_type": "code",
   "execution_count": 5,
   "metadata": {},
   "outputs": [],
   "source": [
    "# Validade is a word is also a stopword\n",
    "def is_stopword(word):\n",
    "    return word in NLTK_STOPWORDS_TABLE"
   ]
  },
  {
   "cell_type": "code",
   "execution_count": 6,
   "metadata": {},
   "outputs": [],
   "source": [
    "import nltk\n",
    "\n",
    "# Add nltk stopwords to spacy\n",
    "try:\n",
    "    nltk.corpus.stopwords.words('portuguese')\n",
    "except LookupError:\n",
    "    nltk.download('stopwords')\n",
    "finally:\n",
    "    nltk_stopwords = nltk.corpus.stopwords.words('portuguese')\n",
    "    \n",
    "NLTK_STOPWORDS_TABLE = dict.fromkeys(i for i in nltk_stopwords)\n",
    "\n",
    "stopwords_extension = ['desse', 'dessa', 'disso', 'dessas', 'desses', \n",
    "                       'esse', 'essa', 'nisso', 'nessa', 'nesse', 'deste', 'desta']\n",
    "\n",
    "# Avoid akward spacy word break\n",
    "for stopword in stopwords_extension:\n",
    "    if not is_stopword(stopword):\n",
    "        NLTK_STOPWORDS_TABLE[stopword] = None"
   ]
  },
  {
   "cell_type": "code",
   "execution_count": 7,
   "metadata": {},
   "outputs": [],
   "source": [
    "import textacy.preprocessing\n",
    "import ftfy\n",
    "\n",
    "from readability import Document\n",
    "from bs4 import BeautifulSoup\n",
    "\n",
    "import requests\n",
    "\n",
    "class Article():\n",
    "    def __init__(self, url):\n",
    "        self.url = url\n",
    "        \n",
    "    @property\n",
    "    def html(self):\n",
    "        if not hasattr(self, '_html'):\n",
    "            self._html = self.get_html()\n",
    "    \n",
    "        return self._html\n",
    "    \n",
    "    \n",
    "    @property\n",
    "    def soup(self):\n",
    "        if not hasattr(self, '_soup'):\n",
    "            self._soup = self.get_soup()\n",
    "    \n",
    "        return self._soup\n",
    "    \n",
    "    @property\n",
    "    def text(self):\n",
    "        if not hasattr(self, '_text'):\n",
    "            self._text = self.get_text()\n",
    "    \n",
    "        return self._text\n",
    "    \n",
    "    @property\n",
    "    def spacy_doc(self):\n",
    "        if not hasattr(self, '_spacy_doc'):\n",
    "            self._spacy_doc = self.get_spacy_doc()\n",
    "    \n",
    "        return self._spacy_doc\n",
    "    \n",
    "    def get_html(self):\n",
    "        article = requests.get(self.url, headers=HEADERS)\n",
    "        \n",
    "        return article.content\n",
    "    \n",
    "    \n",
    "    def get_soup(self):\n",
    "        soup = BeautifulSoup(self.html, 'html.parser')\n",
    "        tags_to_remove = ['script', 'style', 'noscript', \n",
    "                          'aside', 'footer', 'header', 'div.newsletter']\n",
    "\n",
    "        for tag in soup(tags_to_remove):\n",
    "            tag.decompose()\n",
    "            \n",
    "        for tag in soup.find_all(class_='newsletter'):\n",
    "            tag.decompose()\n",
    "            \n",
    "        document = Document(soup.encode(formatter=\"html5\"))\n",
    "        soup = BeautifulSoup(document.summary(), 'html.parser')\n",
    "        \n",
    "        return soup\n",
    "        \n",
    "        \n",
    "    def get_text(self):\n",
    "        text = self.soup.get_text(\"\")\n",
    "        text = text.lower()\n",
    "        \n",
    "        text = ftfy.fix_text(text)\n",
    "        text = textacy.preprocessing.remove_punctuation(text, marks=PUNCTUATIONS_STR)\n",
    "        text = textacy.preprocessing.replace_numbers(text, replace_with=' ')\n",
    "        text = textacy.preprocessing.normalize_whitespace(text)\n",
    "\n",
    "        text = text.split()\n",
    "        text = ' '.join(word for word in text if not is_stopword(word))\n",
    "        \n",
    "        return text\n",
    "    \n",
    "    \n",
    "    def get_spacy_doc(self):\n",
    "        return textacy.make_spacy_doc(self.text, lang=PT_LANG)\n",
    "    \n",
    "\n",
    "#     ------------\n",
    "    \n",
    "def read_pages(urls):\n",
    "    return [Article(url) for url in urls]"
   ]
  },
  {
   "cell_type": "markdown",
   "metadata": {},
   "source": [
    "----"
   ]
  },
  {
   "cell_type": "markdown",
   "metadata": {},
   "source": [
    "## Build corpora\n",
    "Build corpora from posts"
   ]
  },
  {
   "cell_type": "code",
   "execution_count": 126,
   "metadata": {},
   "outputs": [],
   "source": [
    "def build_corpus(pages, kwargs):\n",
    "    return [\n",
    "        list(page.spacy_doc._.to_terms_list(**kwargs))\n",
    "        for page in pages\n",
    "    ]"
   ]
  },
  {
   "cell_type": "code",
   "execution_count": 145,
   "metadata": {
    "scrolled": false
   },
   "outputs": [
    {
     "name": "stderr",
     "output_type": "stream",
     "text": [
      "INFO - 16:41:50: ruthless removal did not work. \n",
      "INFO - 16:41:50: Top 5 : 424.523 .entry-content-wrap>.entry-content\n",
      "INFO - 16:41:50: Top 5 : 226.586 .entry-container>.entry-content-wrap\n",
      "INFO - 16:41:50: Top 5 : 36.100 .post-inner>.entry-details\n",
      "INFO - 16:41:50: Top 5 : 34.300 .post-inner>.entry-details\n",
      "INFO - 16:41:50: Top 5 : 34.210 .post-inner>.entry-details\n",
      "INFO - 16:41:55: ruthless removal did not work. \n",
      "INFO - 16:41:55: Top 5 : 102.768 .entry-content-wrap>.entry-content\n",
      "INFO - 16:41:55: Top 5 : 65.152 .entry-container>.entry-content-wrap\n",
      "INFO - 16:41:55: Top 5 : 36.100 .post-inner>.entry-details\n",
      "INFO - 16:41:55: Top 5 : 34.300 .post-inner>.entry-details\n",
      "INFO - 16:41:55: Top 5 : 34.210 .post-inner>.entry-details\n",
      "INFO - 16:41:59: ruthless removal did not work. \n",
      "INFO - 16:41:59: Top 5 : 123.783 .entry-content-wrap>.entry-content\n",
      "INFO - 16:41:59: Top 5 : 75.630 .entry-container>.entry-content-wrap\n",
      "INFO - 16:41:59: Top 5 : 36.100 .post-inner>.entry-details\n",
      "INFO - 16:41:59: Top 5 : 34.300 .post-inner>.entry-details\n",
      "INFO - 16:41:59: Top 5 : 34.210 .post-inner>.entry-details\n",
      "INFO - 16:42:00: ruthless removal did not work. \n",
      "INFO - 16:42:00: Top 5 : 153.039 .entry-content-wrap>.entry-content\n",
      "INFO - 16:42:00: Top 5 : 90.619 .entry-container>.entry-content-wrap\n",
      "INFO - 16:42:00: Top 5 : 36.220 .post-inner>.entry-details\n",
      "INFO - 16:42:00: Top 5 : 35.190 .post-inner>.entry-details\n",
      "INFO - 16:42:00: Top 5 : 35.120 .post-inner>.entry-details\n",
      "INFO - 16:42:02: ruthless removal did not work. \n",
      "INFO - 16:42:02: Top 5 : 158.426 .entry-content-wrap>.entry-content\n",
      "INFO - 16:42:02: Top 5 : 92.222 .entry-container>.entry-content-wrap\n",
      "INFO - 16:42:02: Top 5 : 36.220 .post-inner>.entry-details\n",
      "INFO - 16:42:02: Top 5 : 35.110 .post-inner>.entry-details\n",
      "INFO - 16:42:02: Top 5 : 34.150 .post-inner>.entry-details\n",
      "INFO - 16:42:03: ruthless removal did not work. \n",
      "INFO - 16:42:03: Top 5 : 145.547 .entry-content-wrap>.entry-content\n",
      "INFO - 16:42:03: Top 5 : 82.012 .entry-container>.entry-content-wrap\n",
      "INFO - 16:42:03: Top 5 : 36.220 .post-inner>.entry-details\n",
      "INFO - 16:42:03: Top 5 : 35.110 .post-inner>.entry-details\n",
      "INFO - 16:42:03: Top 5 : 34.150 .post-inner>.entry-details\n",
      "INFO - 16:42:04: ruthless removal did not work. \n",
      "INFO - 16:42:04: Top 5 : 120.537 .entry-content-wrap>.entry-content\n",
      "INFO - 16:42:04: Top 5 : 74.201 .entry-container>.entry-content-wrap\n",
      "INFO - 16:42:04: Top 5 : 36.100 .post-inner>.entry-details\n",
      "INFO - 16:42:04: Top 5 : 35.100 .post-inner>.entry-details\n",
      "INFO - 16:42:04: Top 5 : 34.300 .post-inner>.entry-details\n",
      "INFO - 16:42:06: ruthless removal did not work. \n",
      "INFO - 16:42:06: Top 5 : 148.385 .entry-content-wrap>.entry-content\n",
      "INFO - 16:42:06: Top 5 : 86.741 .entry-container>.entry-content-wrap\n",
      "INFO - 16:42:06: Top 5 : 36.220 .post-inner>.entry-details\n",
      "INFO - 16:42:06: Top 5 : 35.190 .post-inner>.entry-details\n",
      "INFO - 16:42:06: Top 5 : 35.120 .post-inner>.entry-details\n",
      "INFO - 16:42:07: ruthless removal did not work. \n",
      "INFO - 16:42:07: Top 5 : 110.912 .entry-content-wrap>.entry-content\n",
      "INFO - 16:42:07: Top 5 : 70.369 .entry-container>.entry-content-wrap\n",
      "INFO - 16:42:07: Top 5 : 27.075 section.entry-header.entry-header-standard.entry-header-thumbnail>.entry-header-inner\n",
      "INFO - 16:42:07: Top 5 : 21.931 article.entry-preview.entry.post-3833.post.type-post.status-publish.format-standard.has-post-thumbnail.category-experiencia.category-take-test.tag-blip.tag-chatbots.tag-nlp.tag-sdk>section.entry-header.entry-header-standard.entry-header-thumbnail\n",
      "INFO - 16:42:09: ruthless removal did not work. \n",
      "INFO - 16:42:09: Top 5 : 428.599 .entry-content-wrap>.entry-content\n",
      "INFO - 16:42:09: Top 5 : 228.699 .entry-container>.entry-content-wrap\n",
      "INFO - 16:42:09: Top 5 : 36.220 .post-inner>.entry-details\n",
      "INFO - 16:42:09: Top 5 : 35.110 .post-inner>.entry-details\n",
      "INFO - 16:42:09: Top 5 : 34.150 .post-inner>.entry-details\n",
      "INFO - 16:42:11: ruthless removal did not work. \n",
      "INFO - 16:42:11: Top 5 : 213.894 .entry-content-wrap>.entry-content\n",
      "INFO - 16:42:11: Top 5 : 121.433 .entry-container>.entry-content-wrap\n",
      "INFO - 16:42:11: Top 5 : 36.220 .post-inner>.entry-details\n",
      "INFO - 16:42:11: Top 5 : 35.190 .post-inner>.entry-details\n",
      "INFO - 16:42:11: Top 5 : 35.120 .post-inner>.entry-details\n",
      "INFO - 16:42:12: ruthless removal did not work. \n",
      "INFO - 16:42:12: Top 5 : 157.512 .entry-content-wrap>.entry-content\n",
      "INFO - 16:42:12: Top 5 : 93.129 .entry-container>.entry-content-wrap\n",
      "INFO - 16:42:12: Top 5 : 36.220 .post-inner>.entry-details\n",
      "INFO - 16:42:12: Top 5 : 35.190 .post-inner>.entry-details\n",
      "INFO - 16:42:12: Top 5 : 35.120 .post-inner>.entry-details\n",
      "INFO - 16:42:14: ruthless removal did not work. \n",
      "INFO - 16:42:14: Top 5 : 164.039 .entry-content-wrap>.entry-content\n",
      "INFO - 16:42:14: Top 5 : 96.456 .entry-container>.entry-content-wrap\n",
      "INFO - 16:42:14: Top 5 : 36.220 .post-inner>.entry-details\n",
      "INFO - 16:42:14: Top 5 : 35.190 .post-inner>.entry-details\n",
      "INFO - 16:42:14: Top 5 : 35.120 .post-inner>.entry-details\n"
     ]
    }
   ],
   "source": [
    "from gensim.models.phrases import Phrases, Phraser\n",
    "from gensim.models import Word2Vec\n",
    "\n",
    "pages = read_pages(urls)\n",
    "\n",
    "kwargs = {'as_strings':True, 'normalize': None, 'ngrams':(1)}\n",
    "\n",
    "corpus = build_corpus(pages, kwargs)\n",
    "assert len(corpus) == len(pages)"
   ]
  },
  {
   "cell_type": "markdown",
   "metadata": {},
   "source": [
    "## Retrieve unigrams and bigrams from vocab\n",
    "After building the corpora, the senteces are passed to gensim's Phrases model that detects common phrases and its ngrams."
   ]
  },
  {
   "cell_type": "code",
   "execution_count": 146,
   "metadata": {},
   "outputs": [
    {
     "name": "stderr",
     "output_type": "stream",
     "text": [
      "INFO - 16:42:14: collecting all words and their counts\n",
      "INFO - 16:42:14: PROGRESS: at sentence #0, processed 0 words and 0 word types\n",
      "INFO - 16:42:14: collected 9172 word types from a corpus of 7235 words (unigram + bigrams) and 13 sentences\n",
      "INFO - 16:42:14: using 9172 counts as vocab in Phrases<0 vocab, min_count=5, threshold=10.0, max_vocab_size=40000000>\n"
     ]
    }
   ],
   "source": [
    "phrases = Phrases(corpus)\n",
    "sentences = phrases[corpus]"
   ]
  },
  {
   "cell_type": "markdown",
   "metadata": {},
   "source": [
    "## Build model vocab\n",
    "Buuild the model vocabulary based on the sentences previously created."
   ]
  },
  {
   "cell_type": "code",
   "execution_count": 148,
   "metadata": {},
   "outputs": [
    {
     "name": "stderr",
     "output_type": "stream",
     "text": [
      "INFO - 16:42:37: collecting all words and their counts\n",
      "INFO - 16:42:37: PROGRESS: at sentence #0, processed 0 words, keeping 0 word types\n",
      "INFO - 16:42:37: collected 2661 word types from a corpus of 7017 raw words and 13 sentences\n",
      "INFO - 16:42:37: Loading a fresh vocabulary\n",
      "INFO - 16:42:37: effective_min_count=5 retains 331 unique words (12% of original 2661, drops 2330)\n",
      "INFO - 16:42:37: effective_min_count=5 leaves 3578 word corpus (50% of original 7017, drops 3439)\n",
      "INFO - 16:42:37: deleting the raw counts dictionary of 2661 items\n",
      "INFO - 16:42:37: sample=0.001 downsamples 123 most-common words\n",
      "INFO - 16:42:37: downsampling leaves estimated 2719 word corpus (76.0% of prior 3578)\n",
      "INFO - 16:42:37: estimated required memory for 331 words and 100 dimensions: 430300 bytes\n",
      "INFO - 16:42:37: resetting layer weights\n"
     ]
    },
    {
     "name": "stdout",
     "output_type": "stream",
     "text": [
      "Time to build vocab: 0.0 mins\n",
      "Vocabulary size: 331 word\n"
     ]
    }
   ],
   "source": [
    "# Build model vocab\n",
    "from time import time\n",
    "\n",
    "w2v_model = Word2Vec()\n",
    "\n",
    "t = time()\n",
    "w2v_model.build_vocab(sentences)\n",
    "print(f'Time to build vocab: {round((time() - t) / 60, 2)} mins')\n",
    "\n",
    "print(f'Vocabulary size: {len(w2v_model.wv.vocab)} word')"
   ]
  },
  {
   "cell_type": "markdown",
   "metadata": {},
   "source": [
    "## Train model\n",
    "Train the Word2Vec model, using the following parameters:\n",
    "\n",
    "- `size`: 100 (dimensionality of the word vectors)\n",
    "- `alpha`: 0.025 (initial learning rate)\n",
    "- `window`: 5 (maximum distance between the current and predicted word within a sentence)\n",
    "- `seed`: 1 (random generator seed for reproducibility)\n",
    "- `min_alpha`: 0.0001 (learning rate lower bound)\n",
    "- `min_count`: 5 (word frequency lower bound)\n",
    "- `negative`: 5 (if > 0, sets how many “noise words” should be drawn (usually between 5-20))\n",
    "- `epochs`: 30 (number of epochs, i.e. iterations, over the corpus)\n",
    "- `report_delay`: 1 (seconds to wait before reporting progress)"
   ]
  },
  {
   "cell_type": "code",
   "execution_count": 149,
   "metadata": {
    "scrolled": false
   },
   "outputs": [
    {
     "name": "stderr",
     "output_type": "stream",
     "text": [
      "INFO - 16:42:41: training model with 3 workers on 331 vocabulary and 100 features, using sg=0 hs=0 sample=0.001 negative=5 window=5\n",
      "INFO - 16:42:41: worker thread finished; awaiting finish of 2 more threads\n",
      "INFO - 16:42:41: worker thread finished; awaiting finish of 1 more threads\n",
      "INFO - 16:42:41: worker thread finished; awaiting finish of 0 more threads\n",
      "INFO - 16:42:41: EPOCH - 1 : training on 7017 raw words (2669 effective words) took 0.0s, 60599 effective words/s\n",
      "INFO - 16:42:41: worker thread finished; awaiting finish of 2 more threads\n",
      "INFO - 16:42:41: worker thread finished; awaiting finish of 1 more threads\n",
      "INFO - 16:42:41: worker thread finished; awaiting finish of 0 more threads\n",
      "INFO - 16:42:41: EPOCH - 2 : training on 7017 raw words (2744 effective words) took 0.1s, 53094 effective words/s\n",
      "INFO - 16:42:41: worker thread finished; awaiting finish of 2 more threads\n",
      "INFO - 16:42:41: worker thread finished; awaiting finish of 1 more threads\n",
      "INFO - 16:42:41: worker thread finished; awaiting finish of 0 more threads\n",
      "INFO - 16:42:41: EPOCH - 3 : training on 7017 raw words (2745 effective words) took 0.1s, 50269 effective words/s\n",
      "INFO - 16:42:42: worker thread finished; awaiting finish of 2 more threads\n",
      "INFO - 16:42:42: worker thread finished; awaiting finish of 1 more threads\n",
      "INFO - 16:42:42: worker thread finished; awaiting finish of 0 more threads\n",
      "INFO - 16:42:42: EPOCH - 4 : training on 7017 raw words (2726 effective words) took 0.0s, 66445 effective words/s\n",
      "INFO - 16:42:42: worker thread finished; awaiting finish of 2 more threads\n",
      "INFO - 16:42:42: worker thread finished; awaiting finish of 1 more threads\n",
      "INFO - 16:42:42: worker thread finished; awaiting finish of 0 more threads\n",
      "INFO - 16:42:42: EPOCH - 5 : training on 7017 raw words (2738 effective words) took 0.1s, 47648 effective words/s\n",
      "INFO - 16:42:42: worker thread finished; awaiting finish of 2 more threads\n",
      "INFO - 16:42:42: worker thread finished; awaiting finish of 1 more threads\n",
      "INFO - 16:42:42: worker thread finished; awaiting finish of 0 more threads\n",
      "INFO - 16:42:42: EPOCH - 6 : training on 7017 raw words (2720 effective words) took 0.0s, 62985 effective words/s\n",
      "INFO - 16:42:42: worker thread finished; awaiting finish of 2 more threads\n",
      "INFO - 16:42:42: worker thread finished; awaiting finish of 1 more threads\n",
      "INFO - 16:42:42: worker thread finished; awaiting finish of 0 more threads\n",
      "INFO - 16:42:42: EPOCH - 7 : training on 7017 raw words (2744 effective words) took 0.0s, 63632 effective words/s\n",
      "INFO - 16:42:42: worker thread finished; awaiting finish of 2 more threads\n",
      "INFO - 16:42:42: worker thread finished; awaiting finish of 1 more threads\n",
      "INFO - 16:42:42: worker thread finished; awaiting finish of 0 more threads\n",
      "INFO - 16:42:42: EPOCH - 8 : training on 7017 raw words (2709 effective words) took 0.0s, 62351 effective words/s\n",
      "INFO - 16:42:42: worker thread finished; awaiting finish of 2 more threads\n",
      "INFO - 16:42:42: worker thread finished; awaiting finish of 1 more threads\n",
      "INFO - 16:42:42: worker thread finished; awaiting finish of 0 more threads\n",
      "INFO - 16:42:42: EPOCH - 9 : training on 7017 raw words (2724 effective words) took 0.1s, 48193 effective words/s\n",
      "INFO - 16:42:42: worker thread finished; awaiting finish of 2 more threads\n",
      "INFO - 16:42:42: worker thread finished; awaiting finish of 1 more threads\n",
      "INFO - 16:42:42: worker thread finished; awaiting finish of 0 more threads\n",
      "INFO - 16:42:42: EPOCH - 10 : training on 7017 raw words (2753 effective words) took 0.0s, 64656 effective words/s\n",
      "INFO - 16:42:42: worker thread finished; awaiting finish of 2 more threads\n",
      "INFO - 16:42:42: worker thread finished; awaiting finish of 1 more threads\n",
      "INFO - 16:42:42: worker thread finished; awaiting finish of 0 more threads\n",
      "INFO - 16:42:42: EPOCH - 11 : training on 7017 raw words (2688 effective words) took 0.0s, 57750 effective words/s\n",
      "INFO - 16:42:42: worker thread finished; awaiting finish of 2 more threads\n",
      "INFO - 16:42:42: worker thread finished; awaiting finish of 1 more threads\n",
      "INFO - 16:42:42: worker thread finished; awaiting finish of 0 more threads\n",
      "INFO - 16:42:42: EPOCH - 12 : training on 7017 raw words (2724 effective words) took 0.0s, 61047 effective words/s\n",
      "INFO - 16:42:42: worker thread finished; awaiting finish of 2 more threads\n",
      "INFO - 16:42:42: worker thread finished; awaiting finish of 1 more threads\n",
      "INFO - 16:42:42: worker thread finished; awaiting finish of 0 more threads\n",
      "INFO - 16:42:42: EPOCH - 13 : training on 7017 raw words (2704 effective words) took 0.0s, 61530 effective words/s\n",
      "INFO - 16:42:42: worker thread finished; awaiting finish of 2 more threads\n",
      "INFO - 16:42:42: worker thread finished; awaiting finish of 1 more threads\n",
      "INFO - 16:42:42: worker thread finished; awaiting finish of 0 more threads\n",
      "INFO - 16:42:42: EPOCH - 14 : training on 7017 raw words (2737 effective words) took 0.0s, 61164 effective words/s\n",
      "INFO - 16:42:42: worker thread finished; awaiting finish of 2 more threads\n",
      "INFO - 16:42:42: worker thread finished; awaiting finish of 1 more threads\n",
      "INFO - 16:42:42: worker thread finished; awaiting finish of 0 more threads\n",
      "INFO - 16:42:42: EPOCH - 15 : training on 7017 raw words (2716 effective words) took 0.1s, 49669 effective words/s\n",
      "INFO - 16:42:42: worker thread finished; awaiting finish of 2 more threads\n",
      "INFO - 16:42:42: worker thread finished; awaiting finish of 1 more threads\n",
      "INFO - 16:42:42: worker thread finished; awaiting finish of 0 more threads\n",
      "INFO - 16:42:42: EPOCH - 16 : training on 7017 raw words (2728 effective words) took 0.0s, 62739 effective words/s\n",
      "INFO - 16:42:42: worker thread finished; awaiting finish of 2 more threads\n",
      "INFO - 16:42:42: worker thread finished; awaiting finish of 1 more threads\n",
      "INFO - 16:42:42: worker thread finished; awaiting finish of 0 more threads\n",
      "INFO - 16:42:42: EPOCH - 17 : training on 7017 raw words (2716 effective words) took 0.0s, 65923 effective words/s\n",
      "INFO - 16:42:42: worker thread finished; awaiting finish of 2 more threads\n",
      "INFO - 16:42:42: worker thread finished; awaiting finish of 1 more threads\n",
      "INFO - 16:42:42: worker thread finished; awaiting finish of 0 more threads\n",
      "INFO - 16:42:42: EPOCH - 18 : training on 7017 raw words (2722 effective words) took 0.0s, 57215 effective words/s\n",
      "INFO - 16:42:42: worker thread finished; awaiting finish of 2 more threads\n",
      "INFO - 16:42:42: worker thread finished; awaiting finish of 1 more threads\n",
      "INFO - 16:42:42: worker thread finished; awaiting finish of 0 more threads\n",
      "INFO - 16:42:42: EPOCH - 19 : training on 7017 raw words (2710 effective words) took 0.0s, 58587 effective words/s\n",
      "INFO - 16:42:42: worker thread finished; awaiting finish of 2 more threads\n",
      "INFO - 16:42:42: worker thread finished; awaiting finish of 1 more threads\n",
      "INFO - 16:42:42: worker thread finished; awaiting finish of 0 more threads\n",
      "INFO - 16:42:42: EPOCH - 20 : training on 7017 raw words (2727 effective words) took 0.1s, 38611 effective words/s\n",
      "INFO - 16:42:43: worker thread finished; awaiting finish of 2 more threads\n",
      "INFO - 16:42:43: worker thread finished; awaiting finish of 1 more threads\n",
      "INFO - 16:42:43: worker thread finished; awaiting finish of 0 more threads\n",
      "INFO - 16:42:43: EPOCH - 21 : training on 7017 raw words (2693 effective words) took 0.1s, 39261 effective words/s\n",
      "INFO - 16:42:43: worker thread finished; awaiting finish of 2 more threads\n",
      "INFO - 16:42:43: worker thread finished; awaiting finish of 1 more threads\n",
      "INFO - 16:42:43: worker thread finished; awaiting finish of 0 more threads\n",
      "INFO - 16:42:43: EPOCH - 22 : training on 7017 raw words (2728 effective words) took 0.0s, 59025 effective words/s\n",
      "INFO - 16:42:43: worker thread finished; awaiting finish of 2 more threads\n",
      "INFO - 16:42:43: worker thread finished; awaiting finish of 1 more threads\n",
      "INFO - 16:42:43: worker thread finished; awaiting finish of 0 more threads\n",
      "INFO - 16:42:43: EPOCH - 23 : training on 7017 raw words (2721 effective words) took 0.1s, 36025 effective words/s\n",
      "INFO - 16:42:43: worker thread finished; awaiting finish of 2 more threads\n",
      "INFO - 16:42:43: worker thread finished; awaiting finish of 1 more threads\n",
      "INFO - 16:42:43: worker thread finished; awaiting finish of 0 more threads\n",
      "INFO - 16:42:43: EPOCH - 24 : training on 7017 raw words (2702 effective words) took 0.0s, 59807 effective words/s\n"
     ]
    },
    {
     "name": "stderr",
     "output_type": "stream",
     "text": [
      "INFO - 16:42:43: worker thread finished; awaiting finish of 2 more threads\n",
      "INFO - 16:42:43: worker thread finished; awaiting finish of 1 more threads\n",
      "INFO - 16:42:43: worker thread finished; awaiting finish of 0 more threads\n",
      "INFO - 16:42:43: EPOCH - 25 : training on 7017 raw words (2700 effective words) took 0.1s, 51613 effective words/s\n",
      "INFO - 16:42:43: worker thread finished; awaiting finish of 2 more threads\n",
      "INFO - 16:42:43: worker thread finished; awaiting finish of 1 more threads\n",
      "INFO - 16:42:43: worker thread finished; awaiting finish of 0 more threads\n",
      "INFO - 16:42:43: EPOCH - 26 : training on 7017 raw words (2721 effective words) took 0.0s, 62032 effective words/s\n",
      "INFO - 16:42:43: worker thread finished; awaiting finish of 2 more threads\n",
      "INFO - 16:42:43: worker thread finished; awaiting finish of 1 more threads\n",
      "INFO - 16:42:43: worker thread finished; awaiting finish of 0 more threads\n",
      "INFO - 16:42:43: EPOCH - 27 : training on 7017 raw words (2712 effective words) took 0.0s, 63000 effective words/s\n",
      "INFO - 16:42:43: worker thread finished; awaiting finish of 2 more threads\n",
      "INFO - 16:42:43: worker thread finished; awaiting finish of 1 more threads\n",
      "INFO - 16:42:43: worker thread finished; awaiting finish of 0 more threads\n",
      "INFO - 16:42:43: EPOCH - 28 : training on 7017 raw words (2698 effective words) took 0.0s, 60525 effective words/s\n",
      "INFO - 16:42:43: worker thread finished; awaiting finish of 2 more threads\n",
      "INFO - 16:42:43: worker thread finished; awaiting finish of 1 more threads\n",
      "INFO - 16:42:43: worker thread finished; awaiting finish of 0 more threads\n",
      "INFO - 16:42:43: EPOCH - 29 : training on 7017 raw words (2741 effective words) took 0.1s, 52868 effective words/s\n",
      "INFO - 16:42:43: worker thread finished; awaiting finish of 2 more threads\n",
      "INFO - 16:42:43: worker thread finished; awaiting finish of 1 more threads\n",
      "INFO - 16:42:43: worker thread finished; awaiting finish of 0 more threads\n",
      "INFO - 16:42:43: EPOCH - 30 : training on 7017 raw words (2678 effective words) took 0.0s, 63636 effective words/s\n",
      "INFO - 16:42:43: training on a 210510 raw words (81538 effective words) took 1.7s, 47292 effective words/s\n"
     ]
    },
    {
     "name": "stdout",
     "output_type": "stream",
     "text": [
      "Time to train the model: 0.03 mins\n"
     ]
    }
   ],
   "source": [
    "# Train model\n",
    "t = time()\n",
    "\n",
    "w2v_model.train(sentences, \n",
    "                total_examples=w2v_model.corpus_count, \n",
    "                epochs=30, \n",
    "                report_delay=1)\n",
    "\n",
    "print(f'Time to train the model: {round((time() - t) / 60, 2)} mins')"
   ]
  },
  {
   "cell_type": "code",
   "execution_count": 150,
   "metadata": {},
   "outputs": [
    {
     "name": "stderr",
     "output_type": "stream",
     "text": [
      "INFO - 16:42:50: precomputing L2-norms of word weight vectors\n"
     ]
    }
   ],
   "source": [
    "# Pre compute L2-normalized vector\n",
    "# After this call, no more training can be done\n",
    "\n",
    "w2v_model.wv.init_sims(replace=True)"
   ]
  },
  {
   "cell_type": "markdown",
   "metadata": {},
   "source": [
    "## Vector representation\n",
    "Since Word2Vec model assignsa vector representation to each word, below are some of them."
   ]
  },
  {
   "cell_type": "code",
   "execution_count": 151,
   "metadata": {},
   "outputs": [
    {
     "data": {
      "text/plain": [
       "dict_keys(['nlp', 'natural', 'processamento_linguagem', 'português', 'tecnologia', 'usada', 'ajudar', 'linguagem', 'humano', 'maneira', 'responder', 'demandas', 'processo', 'simples', 'aplicativos', 'realizar', 'pesquisa', 'google', 'receber', 'resposta', 'qualidade', 'usam', 'linguagens', 'diferentes', 'preciso', 'permitir', 'compreensão', 'máquina', 'melhor', 'experiência', 'usuário', 'conversa', 'texto', 'inteligência_artificial', 'ia', 'desenvolver', 'capacidade', 'entender', 'seres_humanos', 'diferença', 'linguagem_natural', 'programação', 'humanos', 'pessoas', 'máquinas', 'comuns', 'podemos', 'criar', 'sistemas', 'aplicações', 'permite', 'entenda', 'usando', 'respostas', 'interações', 'exemplos', 'aplicação', 'chatbot', 'empresa', 'capaz', 'informações', 'contato', 'usuários', 'estrutura', 'complexos', 'sendo', 'possa', 'humana', 'conceitos', 'processamento', 'machine_learning', 'deep', 'learning', 'ml', 'aprendizado_máquina', 'assunto', 'redes', 'neurais', 'melhorar', 'fala', 'leia', 'funciona', 'uso', 'tecnologias', 'importante', 'melhores', 'experiências', 'necessidades', 'deseja', 'problema', 'cliente', 'sociais', 'capazes', 'conteúdo', 'canal', 'comunicação', 'oferecer', 'palavras', 'dia', 'banco', 'contexto', 'intenção', 'análise', 'diálogo', 'interação', 'precisa', 'principal', 'caso', 'razão', 'mensagem', 'via', 'mercado', 'ferramentas', 'dados', 'vídeo', 'aprender', 'principais', 'usos', 'coisas', 'plataforma', 'busca', 'artigo', 'passam', 'entendimento', 'resultados', 'feito', 'pensando', 'acontece', 'atualmente', 'existem', 'clientes', 'conhece', 'compreender', 'voz', 'outro', 'nlp_chatbot', 'lista', 'recente', 'estudo', 'organizações', 'chatbots', 'casos', 'presente', 'vida', 'software', 'mensagens', 'whatsapp', 'facebook', 'messenger', 'estratégia', 'marketing', 'empresas', 'atendimento', 'suporte', 'organização', 'ações', 'marketing_vendas', 'e-mail', 'desafios', 'continuar', 'evolução', 'conceito', 'manter', 'resolver', 'satisfação', 'tornar', 'relacionamento', 'negócios', 'consumidores', 'facilitar', 'tarefas', 'conta', 'dias', 'mundo', 'muitas', 'erros', 'regras', 'pessoa', 'extremamente', 'situação', 'ideia', 'implementação', 'conjunto', 'bot', 'seguir', 'dialogflow', 'luis', 'microsoft', 'quase', 'oferece', 'criação', 'provedor', 'brasil', 'recursos', 'construir', 'bots', 'machine', 'canais', 'digitais', 'nome', 'service', 'serviço', 'objetivo', 'inteligência', 'baseado', 'solução', 'comum', 'maneiras', 'vantagens', 'benefícios', 'dúvidas', 'blip', 'criada', 'take', 'provedores', 'watson', 'eficiente', 'conheça', 'soluções', 'serviços', 'equipe', 'processos', 'provedores_nlp', 'inteligencia_artificial', 'traz', 'experiência_cliente', 'post', 'negócio', 'usado', 'plataformas', 'ibm', 'entidades', 'formas', 'frases', 'valores', 'mesma', 'utilizar', 'construção', 'agentes', 'possui', 'tipos', 'conhecer', 'ajuda', 'time', 'inovação', 'velocidade', 'fundamental', 'novidades', 'confira', 'brasileiro', 'diversas', 'evento', 'tendências', 'edição', 'tema', 'big_data', 'principalmente', 'internet', 'segurança', 'informação', 'sucesso', 'trabalhar', 'horas', 'curso', 'desenvolvimento', 'longo', 'áreas', 'gestão', 'inteligentes', 'colocar', 'prática', 'estratégias', 'pensar', 'avanço', 'entretanto', 'decisões', 'redução', 'difícil', 'automação', 'vendas', 'desempenho', 'algoritmos', 'n', 'produtos', 'verdadeira', 'transformação_digital', 'público', 'rápida', 'volume', 'produto', 'práticas', 'algoritmo', 'hub', 'tomada_decisão', 'conteúdos', 'hub_inteligência', 'artificial', 'hoje', 'custo', 'disponíveis', 'trabalho', 'necessidade', 'ferramenta', 'oportunidades', 'trabalhar_inteligência', 'milhões', 'várias', 'etc', 'analista', 'sites', 'necessário', 'frentes', 'possibilidades', 'pergunta', 'sucesso_cliente', 'diretrizes', 'marcas', 'gente', 'compra', 'marca', 'escalabilidade', 'gerar', 'digital', 'passo', 'perguntas', 'testes', 'vamos', 'semana', 'quantidade_dados', 'bancos', 'perfil'])"
      ]
     },
     "execution_count": 151,
     "metadata": {},
     "output_type": "execute_result"
    }
   ],
   "source": [
    "w2v_model.wv.vocab.keys()"
   ]
  },
  {
   "cell_type": "code",
   "execution_count": 75,
   "metadata": {},
   "outputs": [],
   "source": [
    "def print_w2v(w2v_model, word):\n",
    "    print(f'Vector of word \"{word}\"')\n",
    "    print(w2v_model.wv.word_vec(word))"
   ]
  },
  {
   "cell_type": "code",
   "execution_count": 152,
   "metadata": {},
   "outputs": [
    {
     "name": "stdout",
     "output_type": "stream",
     "text": [
      "Vector of word \"nlp\"\n",
      "[-0.01367724 -0.10155511  0.10198835  0.05174489 -0.02064996 -0.06888045\n",
      "  0.0917024   0.00657047  0.08956663 -0.10079786  0.06602094 -0.04387011\n",
      "  0.06406075  0.04032032 -0.3385873   0.12747309  0.01690682 -0.07733346\n",
      "  0.09725036  0.00933549 -0.01242094 -0.04173902  0.00922961  0.05799652\n",
      "  0.02354773  0.01053208  0.09002472 -0.01564538 -0.04094705  0.12618802\n",
      "  0.02093946  0.07107322  0.06840596 -0.10924128 -0.0025774   0.23926401\n",
      "  0.02513755  0.14137061  0.05418982 -0.01937499  0.06024384  0.05843498\n",
      "  0.02578603 -0.24919648  0.08957507  0.04937788  0.04689065  0.16278632\n",
      "  0.01517398  0.00134025  0.025291    0.06629166  0.17440996 -0.02583305\n",
      " -0.04185402  0.01607129 -0.04789976  0.04187287 -0.05154903 -0.01857959\n",
      " -0.10567098 -0.05169498  0.1019692   0.03813137  0.07841473  0.01523525\n",
      "  0.09451906  0.04989419  0.1304131  -0.00731087 -0.07391549 -0.00334188\n",
      "  0.09981506  0.04363726 -0.04423853 -0.14855962 -0.08031429  0.24405386\n",
      "  0.10387704 -0.02796236 -0.07681783 -0.05618933  0.1459692  -0.01217958\n",
      "  0.1138621  -0.12724793 -0.1510591  -0.20753174 -0.16751896 -0.07111333\n",
      " -0.04224954 -0.02842241 -0.03436524 -0.07144331 -0.22716421 -0.15590566\n",
      "  0.09546579 -0.00427905 -0.138563    0.21205014]\n",
      "Vector of word \"machine_learning\"\n",
      "[-0.01015964 -0.10324295  0.10053274  0.04732679 -0.02184083 -0.06965712\n",
      "  0.09481574  0.00806266  0.09307935 -0.10068568  0.06429908 -0.0462106\n",
      "  0.06495018  0.03874061 -0.33503664  0.12196814  0.01782158 -0.07888424\n",
      "  0.09452149  0.01133145 -0.00954378 -0.03707241  0.00629484  0.05815523\n",
      "  0.02179607  0.01262582  0.09431639 -0.01574975 -0.04183824  0.12459441\n",
      "  0.01880604  0.06661216  0.06436012 -0.11127824  0.00197517  0.2360289\n",
      "  0.02449519  0.13843651  0.05716542 -0.02025178  0.06218755  0.05904813\n",
      "  0.02693537 -0.25519884  0.08846873  0.04560777  0.04139708  0.16614424\n",
      "  0.01122032  0.00137809  0.02595037  0.06362699  0.17313622 -0.02761239\n",
      " -0.04165358  0.01330236 -0.04688363  0.04119911 -0.05249863 -0.02045434\n",
      " -0.10537118 -0.04852174  0.10352338  0.04433689  0.07994454  0.01549231\n",
      "  0.09554835  0.04603035  0.1279686  -0.00293797 -0.06850159 -0.00769642\n",
      "  0.10137081  0.04524837 -0.04129373 -0.15268326 -0.08382452  0.2473645\n",
      "  0.10464593 -0.0282418  -0.0811308  -0.05794976  0.14632748 -0.01432845\n",
      "  0.11238344 -0.12925589 -0.15209906 -0.21038428 -0.16724488 -0.07338045\n",
      " -0.04294333 -0.0265956  -0.0356776  -0.06850963 -0.22841643 -0.1560782\n",
      "  0.0894056  -0.00862574 -0.13655673  0.2090477 ]\n"
     ]
    }
   ],
   "source": [
    "print_w2v(w2v_model, 'nlp')\n",
    "print_w2v(w2v_model, 'machine_learning')"
   ]
  },
  {
   "cell_type": "markdown",
   "metadata": {},
   "source": [
    "## Most similar\n",
    "Word embeddings enables us to find similarities along the vector space through calculations such as cosine one. Below we have top 10 similar word for 3 words present in the vocabulary."
   ]
  },
  {
   "cell_type": "code",
   "execution_count": 141,
   "metadata": {},
   "outputs": [],
   "source": [
    "def top_10_similar(w2v_model, word):\n",
    "    words = w2v_model.wv.most_similar(positive=[word])\n",
    "    words = [w[0] for w in words]\n",
    "    print(f'Top 10 similar words for {word}: {words}')"
   ]
  },
  {
   "cell_type": "code",
   "execution_count": 160,
   "metadata": {},
   "outputs": [
    {
     "name": "stdout",
     "output_type": "stream",
     "text": [
      "Top 10 similar words for aprender: ['criar', 'ia', 'inteligência_artificial', 'agentes', 'melhor', 'evolução', 'palavras', 'importante', 'objetivo', 'funciona']\n",
      "Top 10 similar words for machine_learning: ['hoje', 'principais', 'nlp', 'ferramentas', 'compreensão', 'artificial', 'aprendizado_máquina', 'linguagem', 'tecnologia', 'provedor']\n",
      "Top 10 similar words for inteligência_artificial: ['aprender', 'compreender', 'agentes', 'máquina', 'objetivo', 'ia', 'conteúdos', 'usuários', 'situação', 'prática']\n"
     ]
    }
   ],
   "source": [
    "top_10_similar(w2v_model, 'aprender')\n",
    "top_10_similar(w2v_model, 'machine_learning')\n",
    "top_10_similar(w2v_model, 'inteligência_artificial')"
   ]
  },
  {
   "cell_type": "markdown",
   "metadata": {},
   "source": [
    "## Analogy difference\n",
    "Vector representations also enables us to sum and/or subtract words from other, leading to highly informative concepts as shown below."
   ]
  },
  {
   "cell_type": "code",
   "execution_count": 104,
   "metadata": {},
   "outputs": [],
   "source": [
    "def vector_association(w2v_model, positive_words, negative_word):\n",
    "    words = w2v_model.wv.most_similar(positive=positive_words, \n",
    "                                      negative=[negative_word],\n",
    "                                      topn=1)\n",
    "    words = [w[0] for w in words]\n",
    "    print(f'Which word is to \"{positive_words[0]}\" as \"{positive_words[1]}\" is to \"{negative_word}\"? {words}')"
   ]
  },
  {
   "cell_type": "code",
   "execution_count": 156,
   "metadata": {},
   "outputs": [
    {
     "name": "stdout",
     "output_type": "stream",
     "text": [
      "Which word is to \"chatbots\" as \"machine_learning\" is to \"inteligência_artificial\"? ['mundo']\n",
      "Which word is to \"usuário\" as \"nlp\" is to \"inteligência_artificial\"? ['resposta']\n"
     ]
    }
   ],
   "source": [
    "vector_association(w2v_model, ['chatbots', 'machine_learning'], \n",
    "                   'inteligência_artificial')\n",
    "\n",
    "vector_association(w2v_model, ['usuário', 'nlp'], \n",
    "                   'inteligência_artificial')"
   ]
  },
  {
   "cell_type": "markdown",
   "metadata": {},
   "source": [
    "## Odd-One-Out\n",
    "If we want to know the word that deviates the most from a list of terms, we can ask for the most odd one"
   ]
  },
  {
   "cell_type": "code",
   "execution_count": 115,
   "metadata": {},
   "outputs": [],
   "source": [
    "def odd_one_out(w2v_model, words):\n",
    "    word = w2v_model.wv.doesnt_match(words)\n",
    "    print(f\"Which word doesn't fit in the list: {words}? {word}\")"
   ]
  },
  {
   "cell_type": "code",
   "execution_count": 157,
   "metadata": {},
   "outputs": [
    {
     "name": "stdout",
     "output_type": "stream",
     "text": [
      "Which word doesn't fit in the list: ['nlp', 'inteligência_artificial', 'evento']? evento\n"
     ]
    },
    {
     "name": "stderr",
     "output_type": "stream",
     "text": [
      "/home/ceciliassis/pessoal/machine-learning/natural-language-processing/word2vec/venv/lib/python3.7/site-packages/gensim/models/keyedvectors.py:877: FutureWarning: arrays to stack must be passed as a \"sequence\" type such as list or tuple. Support for non-sequence iterables such as generators is deprecated as of NumPy 1.16 and will raise an error in the future.\n",
      "  vectors = vstack(self.word_vec(word, use_norm=True) for word in used_words).astype(REAL)\n"
     ]
    }
   ],
   "source": [
    "odd_one_out(w2v_model, ['nlp', 'inteligência_artificial', 'evento'])"
   ]
  },
  {
   "cell_type": "markdown",
   "metadata": {},
   "source": [
    "## t-SNE visualization\n",
    "t-SNE (t-Distributed Stochastic Neighbor Embedding) is a technique for dimensionality reductition. Since humans are more confortable with spaces up to 3 dimensions, this kind of method helps to see how data fit on the explored vector space. \n",
    "\n",
    "For more info, see [Visualising high-dimensional datasets using PCA and t-SNE in Python](https://towardsdatascience.com/visualising-high-dimensional-datasets-using-pca-and-t-sne-in-python-8ef87e7915b) and [sklearn.manifold.TSNE](https://scikit-learn.org/stable/modules/generated/sklearn.manifold.TSNE.html)."
   ]
  },
  {
   "cell_type": "code",
   "execution_count": 14,
   "metadata": {},
   "outputs": [
    {
     "name": "stdout",
     "output_type": "stream",
     "text": [
      "Current word embedding dimension: (100,)\n"
     ]
    }
   ],
   "source": [
    "import numpy as np\n",
    "import pandas as pd\n",
    "import matplotlib.pyplot as plt\n",
    "%matplotlib inline\n",
    "\n",
    "import seaborn as sns\n",
    "sns.set_style(\"darkgrid\")\n",
    "\n",
    "from sklearn.decomposition import PCA\n",
    "from sklearn.manifold import TSNE\n",
    "\n",
    "print(f'Current word embedding dimension: {w2v_model.wv.get_vector(\"nlp\").shape}')"
   ]
  },
  {
   "cell_type": "code",
   "execution_count": 35,
   "metadata": {},
   "outputs": [],
   "source": [
    "def tsne_representation(w2v_model, word):\n",
    "    w2v_labels = [word]\n",
    "    w2v_colors = ['red']\n",
    "    w2v_arrays = np.empty((0,100), dtype='f')\n",
    "\n",
    "    w2v = w2v_model.wv.word_vec(\"nlp\")\n",
    "    w2v_arrays = np.append(w2v_arrays, [w2v], axis=0) \n",
    "\n",
    "    # Add similar words to w2v array\n",
    "    most_similar = w2v_model.wv.most_similar([word])\n",
    "    w2v_colors.extend(['black'] * len(most_similar))\n",
    "    for word_score in most_similar:\n",
    "        w2v_labels.append(word_score[0])\n",
    "        w2v = w2v_model.wv.word_vec(word_score[0])\n",
    "        w2v_arrays = np.append(w2v_arrays, [w2v], axis=0)\n",
    "    \n",
    "    # reduce w2v dims\n",
    "    t = time()\n",
    "    pca = PCA(n_components=5).fit_transform(w2v_arrays)\n",
    "    print(f'Time to train PCA: {round((time() - t) / 60, 2)} mins')\n",
    "    \n",
    "    t = time()\n",
    "    tsne = TSNE(n_components=2, random_state=0).fit_transform(pca)    \n",
    "    print(f'Time to train TSNE: {round((time() - t) / 60, 2)} mins')\n",
    "    \n",
    "    tsne_dataframe = pd.DataFrame({'x': [x for x in tsne[:, 0]],\n",
    "                                   'y': [y for y in tsne[:, 1]],\n",
    "                                   'word': w2v_labels,\n",
    "                                   'color': w2v_colors})\n",
    "    \n",
    "    # Define plot\n",
    "    fig = plt.figure(figsize=(10, 10))\n",
    "    \n",
    "    plot = sns.regplot(data=tsne_dataframe,\n",
    "                       x='x', \n",
    "                       y='y',\n",
    "                       fit_reg=False, \n",
    "                       marker='o', \n",
    "                       scatter_kws={\n",
    "                        's': 40, \n",
    "                           'facecolors': tsne_dataframe['color']\n",
    "                       })\n",
    "    \n",
    "    \n",
    "    # Set annotations\n",
    "    for line in range(0, tsne_dataframe.shape[0]):\n",
    "        plt.text(tsne_dataframe['x'][line], \n",
    "                tsne_dataframe['y'][line], \n",
    "                ' ' + tsne_dataframe['word'][line],\n",
    "                horizontalalignment='left',\n",
    "                verticalalignment='bottom', \n",
    "                size='medium',\n",
    "                color=tsne_dataframe['color'][line],\n",
    "                weight='normal'\n",
    "               ).set_size(15)\n",
    "        \n",
    "    plt.title(f't-SNE visualization for {word}')"
   ]
  },
  {
   "cell_type": "code",
   "execution_count": 158,
   "metadata": {
    "scrolled": false
   },
   "outputs": [
    {
     "name": "stdout",
     "output_type": "stream",
     "text": [
      "Time to train PCA: 0.0 mins\n",
      "Time to train TSNE: 1.22 mins\n"
     ]
    },
    {
     "data": {
      "image/png": "[encoded data removed]",
      "text/plain": [
       "<Figure size 720x720 with 1 Axes>"
      ]
     },
     "metadata": {},
     "output_type": "display_data"
    }
   ],
   "source": [
    "tsne_representation(w2v_model, 'machine_learning')"
   ]
  },
  {
   "cell_type": "code",
   "execution_count": 159,
   "metadata": {},
   "outputs": [
    {
     "name": "stdout",
     "output_type": "stream",
     "text": [
      "Time to train PCA: 0.0 mins\n",
      "Time to train TSNE: 1.34 mins\n"
     ]
    },
    {
     "data": {
      "image/png": "[encoded data removed]",
      "text/plain": [
       "<Figure size 720x720 with 1 Axes>"
      ]
     },
     "metadata": {},
     "output_type": "display_data"
    }
   ],
   "source": [
    "tsne_representation(w2v_model, 'linguagem_natural')"
   ]
  },
  {
   "cell_type": "markdown",
   "metadata": {},
   "source": [
    "## Summary\n",
    "Word embeddings allows us to match words against their context, enabling important discoveries."
   ]
  },
  {
   "cell_type": "markdown",
   "metadata": {},
   "source": [
    "### Thanks to:\n",
    "- https://www.kaggle.com/pierremegret/gensim-word2vec-tutorial"
   ]
  }
 ],
 "metadata": {
  "kernelspec": {
   "display_name": "Python 3",
   "language": "python",
   "name": "python3"
  },
  "language_info": {
   "codemirror_mode": {
    "name": "ipython",
    "version": 3
   },
   "file_extension": ".py",
   "mimetype": "text/x-python",
   "name": "python",
   "nbconvert_exporter": "python",
   "pygments_lexer": "ipython3",
   "version": "3.7.4"
  }
 },
 "nbformat": 4,
 "nbformat_minor": 2
}

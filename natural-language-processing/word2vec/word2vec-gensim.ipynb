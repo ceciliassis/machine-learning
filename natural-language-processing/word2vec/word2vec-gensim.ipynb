{
 "cells": [
  {
   "cell_type": "markdown",
   "metadata": {},
   "source": [
    "# Word embeddings - Word2Vec\n",
    "\n",
    "### Author: Cecília Assis\n",
    "#### Github: https://github.com/ceciliassis\n",
    "#### Linkedin: https://www.linkedin.com/in/ceciliassis/"
   ]
  },
  {
   "cell_type": "code",
   "execution_count": 1,
   "metadata": {},
   "outputs": [],
   "source": [
    "import logging  # Setting up the loggings to monitor gensim\n",
    "logging.basicConfig(format=\"%(levelname)s - %(asctime)s: %(message)s\", datefmt= '%H:%M:%S', level=logging.INFO)\n",
    "logger = logging.getLogger(__name__)"
   ]
  },
  {
   "cell_type": "code",
   "execution_count": 2,
   "metadata": {},
   "outputs": [],
   "source": [
    "HEADERS = {\n",
    "    'User-Agent': (\n",
    "        'Mozilla/5.0 (Macintosh; Intel Mac OS X 10_11_5) AppleWebKit/537.36'\n",
    "        '(KHTML, like Gecko) Chrome/50.0.2661.102 Safari/537.36'\n",
    "    )\n",
    "}\n",
    "\n",
    "urls = [\n",
    "    'https://take.net/blog/4devs/nlp-processamento-linguagem-natural/',\n",
    "    'https://take.net/blog/4devs/nlp-chatbot/',\n",
    "    'https://take.net/blog/4devs/cursos-para-aprender-sobre-chatbots/',\n",
    "    'https://take.net/blog/inovacao/motivos-usar-inteligencia-artificial/',\n",
    "    'https://take.net/blog/chatbots/algoritmos-inteligencia-artificial-crime/',\n",
    "    'https://take.net/blog/chatbots/inteligencia-artificial-no-blip/',\n",
    "    'https://take.net/blog/devs/trabalhar-com-inteligencia-artificial/',\n",
    "    'https://take.net/blog/inovacao/sucesso-do-cliente-e-inteligencia-artificial/',\n",
    "    'https://take.net/blog/take-test/testes-em-chatbots-com-nlp/',\n",
    "    'https://take.net/blog/chatbots/chatbot/',\n",
    "    'https://take.net/blog/inovacao/big-data/',\n",
    "    'https://take.net/blog/inovacao/big-data-no-trabalho/',\n",
    "    'https://take.net/blog/inovacao/transformacao-digital/'\n",
    "]"
   ]
  },
  {
   "cell_type": "code",
   "execution_count": 3,
   "metadata": {},
   "outputs": [],
   "source": [
    "# Define stric set of punctuations due to pre processing and Portuguese characteristics (ex. trata-se)\n",
    "PUNCTUATIONS = ['*', '+', '.', '/', '[', ']', '(', ')', ';', ':', '%', 'º',\n",
    "                '=', '!', '\"','“', \"'\", \"”\", \"#\", '{', '}', ',', '\\?']\n",
    "PUNCTUATIONS_STR = ''.join(PUNCTUATIONS)"
   ]
  },
  {
   "cell_type": "code",
   "execution_count": 4,
   "metadata": {},
   "outputs": [],
   "source": [
    "import spacy\n",
    "\n",
    "# Load spacy lang\n",
    "try:\n",
    "    spacy.load('pt', disable=['ner'])\n",
    "except OSError:\n",
    "    !python -m spacy download pt\n",
    "finally:\n",
    "    PT_LANG = spacy.load('pt', disable=['ner'])"
   ]
  },
  {
   "cell_type": "code",
   "execution_count": 5,
   "metadata": {},
   "outputs": [],
   "source": [
    "# Validade is a word is also a stopword\n",
    "def is_stopword(word):\n",
    "    return word in NLTK_STOPWORDS_TABLE"
   ]
  },
  {
   "cell_type": "code",
   "execution_count": 6,
   "metadata": {},
   "outputs": [],
   "source": [
    "import nltk\n",
    "\n",
    "# Add nltk stopwords to spacy\n",
    "try:\n",
    "    nltk.corpus.stopwords.words('portuguese')\n",
    "except LookupError:\n",
    "    nltk.download('stopwords')\n",
    "finally:\n",
    "    nltk_stopwords = nltk.corpus.stopwords.words('portuguese')\n",
    "    \n",
    "NLTK_STOPWORDS_TABLE = dict.fromkeys(i for i in nltk_stopwords)\n",
    "\n",
    "stopwords_extension = ['desse', 'dessa', 'disso', 'dessas', 'desses', \n",
    "                       'esse', 'essa', 'nisso', 'nessa', 'nesse', 'deste', 'desta']\n",
    "\n",
    "# Avoid akward spacy word break\n",
    "for stopword in stopwords_extension:\n",
    "    if not is_stopword(stopword):\n",
    "        NLTK_STOPWORDS_TABLE[stopword] = None"
   ]
  },
  {
   "cell_type": "code",
   "execution_count": 7,
   "metadata": {},
   "outputs": [],
   "source": [
    "import textacy.preprocessing\n",
    "import ftfy\n",
    "\n",
    "from readability import Document\n",
    "from bs4 import BeautifulSoup\n",
    "\n",
    "import requests\n",
    "\n",
    "class Article():\n",
    "    def __init__(self, url):\n",
    "        self.url = url\n",
    "        \n",
    "    @property\n",
    "    def html(self):\n",
    "        if not hasattr(self, '_html'):\n",
    "            self._html = self.get_html()\n",
    "    \n",
    "        return self._html\n",
    "    \n",
    "    \n",
    "    @property\n",
    "    def soup(self):\n",
    "        if not hasattr(self, '_soup'):\n",
    "            self._soup = self.get_soup()\n",
    "    \n",
    "        return self._soup\n",
    "    \n",
    "    @property\n",
    "    def text(self):\n",
    "        if not hasattr(self, '_text'):\n",
    "            self._text = self.get_text()\n",
    "    \n",
    "        return self._text\n",
    "    \n",
    "    @property\n",
    "    def spacy_doc(self):\n",
    "        if not hasattr(self, '_spacy_doc'):\n",
    "            self._spacy_doc = self.get_spacy_doc()\n",
    "    \n",
    "        return self._spacy_doc\n",
    "    \n",
    "    def get_html(self):\n",
    "        article = requests.get(self.url, headers=HEADERS)\n",
    "        \n",
    "        return article.content\n",
    "    \n",
    "    \n",
    "    def get_soup(self):\n",
    "        soup = BeautifulSoup(self.html, 'html.parser')\n",
    "        tags_to_remove = ['script', 'style', 'noscript', \n",
    "                          'aside', 'footer', 'header', 'div.newsletter']\n",
    "\n",
    "        for tag in soup(tags_to_remove):\n",
    "            tag.decompose()\n",
    "            \n",
    "        for tag in soup.find_all(class_='newsletter'):\n",
    "            tag.decompose()\n",
    "            \n",
    "        document = Document(soup.encode(formatter=\"html5\"))\n",
    "        soup = BeautifulSoup(document.summary(), 'html.parser')\n",
    "        \n",
    "        return soup\n",
    "        \n",
    "        \n",
    "    def get_text(self):\n",
    "        text = self.soup.get_text(\"\")\n",
    "        text = text.lower()\n",
    "        \n",
    "        text = ftfy.fix_text(text)\n",
    "        text = textacy.preprocessing.remove_punctuation(text, marks=PUNCTUATIONS_STR)\n",
    "        text = textacy.preprocessing.replace_numbers(text, replace_with=' ')\n",
    "        text = textacy.preprocessing.normalize_whitespace(text)\n",
    "\n",
    "        text = text.split()\n",
    "        text = ' '.join(word for word in text if not is_stopword(word))\n",
    "        \n",
    "        return text\n",
    "    \n",
    "    \n",
    "    def get_spacy_doc(self):\n",
    "        return textacy.make_spacy_doc(self.text, lang=PT_LANG)\n",
    "    \n",
    "\n",
    "#     ------------\n",
    "    \n",
    "def read_pages(urls):\n",
    "    return [Article(url) for url in urls]"
   ]
  },
  {
   "cell_type": "markdown",
   "metadata": {},
   "source": [
    "----"
   ]
  },
  {
   "cell_type": "markdown",
   "metadata": {},
   "source": [
    "## Build corpora\n",
    "Build corpora from posts"
   ]
  },
  {
   "cell_type": "code",
   "execution_count": 8,
   "metadata": {},
   "outputs": [],
   "source": [
    "def build_corpus(pages, kwargs):\n",
    "    return [\n",
    "        list(page.spacy_doc._.to_terms_list(**kwargs))\n",
    "        for page in pages\n",
    "    ]"
   ]
  },
  {
   "cell_type": "code",
   "execution_count": 9,
   "metadata": {
    "scrolled": false
   },
   "outputs": [
    {
     "name": "stderr",
     "output_type": "stream",
     "text": [
      "INFO - 20:55:43: ruthless removal did not work. \n",
      "INFO - 20:55:43: Top 5 : 424.523 .entry-content-wrap>.entry-content\n",
      "INFO - 20:55:43: Top 5 : 226.586 .entry-container>.entry-content-wrap\n",
      "INFO - 20:55:43: Top 5 : 36.100 .post-inner>.entry-details\n",
      "INFO - 20:55:43: Top 5 : 35.100 .post-inner>.entry-details\n",
      "INFO - 20:55:43: Top 5 : 34.300 .post-inner>.entry-details\n",
      "INFO - 20:55:48: ruthless removal did not work. \n",
      "INFO - 20:55:48: Top 5 : 102.768 .entry-content-wrap>.entry-content\n",
      "INFO - 20:55:48: Top 5 : 65.152 .entry-container>.entry-content-wrap\n",
      "INFO - 20:55:48: Top 5 : 36.100 .post-inner>.entry-details\n",
      "INFO - 20:55:48: Top 5 : 35.100 .post-inner>.entry-details\n",
      "INFO - 20:55:48: Top 5 : 34.300 .post-inner>.entry-details\n",
      "INFO - 20:55:51: ruthless removal did not work. \n",
      "INFO - 20:55:51: Top 5 : 123.783 .entry-content-wrap>.entry-content\n",
      "INFO - 20:55:51: Top 5 : 75.630 .entry-container>.entry-content-wrap\n",
      "INFO - 20:55:51: Top 5 : 36.100 .post-inner>.entry-details\n",
      "INFO - 20:55:51: Top 5 : 35.100 .post-inner>.entry-details\n",
      "INFO - 20:55:51: Top 5 : 34.300 .post-inner>.entry-details\n",
      "INFO - 20:55:53: ruthless removal did not work. \n",
      "INFO - 20:55:53: Top 5 : 153.039 .entry-content-wrap>.entry-content\n",
      "INFO - 20:55:53: Top 5 : 90.619 .entry-container>.entry-content-wrap\n",
      "INFO - 20:55:53: Top 5 : 36.220 .post-inner>.entry-details\n",
      "INFO - 20:55:53: Top 5 : 35.190 .post-inner>.entry-details\n",
      "INFO - 20:55:53: Top 5 : 35.120 .post-inner>.entry-details\n",
      "INFO - 20:55:56: ruthless removal did not work. \n",
      "INFO - 20:55:56: Top 5 : 158.426 .entry-content-wrap>.entry-content\n",
      "INFO - 20:55:56: Top 5 : 92.222 .entry-container>.entry-content-wrap\n",
      "INFO - 20:55:56: Top 5 : 36.220 .post-inner>.entry-details\n",
      "INFO - 20:55:56: Top 5 : 35.110 .post-inner>.entry-details\n",
      "INFO - 20:55:56: Top 5 : 34.150 .post-inner>.entry-details\n",
      "INFO - 20:56:00: ruthless removal did not work. \n",
      "INFO - 20:56:00: Top 5 : 145.547 .entry-content-wrap>.entry-content\n",
      "INFO - 20:56:00: Top 5 : 82.012 .entry-container>.entry-content-wrap\n",
      "INFO - 20:56:00: Top 5 : 36.220 .post-inner>.entry-details\n",
      "INFO - 20:56:00: Top 5 : 35.110 .post-inner>.entry-details\n",
      "INFO - 20:56:00: Top 5 : 34.150 .post-inner>.entry-details\n",
      "INFO - 20:56:02: ruthless removal did not work. \n",
      "INFO - 20:56:02: Top 5 : 120.537 .entry-content-wrap>.entry-content\n",
      "INFO - 20:56:02: Top 5 : 74.201 .entry-container>.entry-content-wrap\n",
      "INFO - 20:56:02: Top 5 : 36.100 .post-inner>.entry-details\n",
      "INFO - 20:56:02: Top 5 : 35.100 .post-inner>.entry-details\n",
      "INFO - 20:56:02: Top 5 : 34.300 .post-inner>.entry-details\n",
      "INFO - 20:56:03: ruthless removal did not work. \n",
      "INFO - 20:56:03: Top 5 : 148.385 .entry-content-wrap>.entry-content\n",
      "INFO - 20:56:03: Top 5 : 86.741 .entry-container>.entry-content-wrap\n",
      "INFO - 20:56:03: Top 5 : 36.220 .post-inner>.entry-details\n",
      "INFO - 20:56:03: Top 5 : 35.190 .post-inner>.entry-details\n",
      "INFO - 20:56:03: Top 5 : 35.120 .post-inner>.entry-details\n",
      "INFO - 20:56:04: ruthless removal did not work. \n",
      "INFO - 20:56:04: Top 5 : 110.912 .entry-content-wrap>.entry-content\n",
      "INFO - 20:56:04: Top 5 : 70.369 .entry-container>.entry-content-wrap\n",
      "INFO - 20:56:04: Top 5 : 27.075 section.entry-header.entry-header-standard.entry-header-thumbnail>.entry-header-inner\n",
      "INFO - 20:56:04: Top 5 : 21.931 article.entry-preview.entry.post-3833.post.type-post.status-publish.format-standard.has-post-thumbnail.category-experiencia.category-take-test.tag-blip.tag-chatbots.tag-nlp.tag-sdk>section.entry-header.entry-header-standard.entry-header-thumbnail\n",
      "INFO - 20:56:06: ruthless removal did not work. \n",
      "INFO - 20:56:06: Top 5 : 428.599 .entry-content-wrap>.entry-content\n",
      "INFO - 20:56:06: Top 5 : 228.699 .entry-container>.entry-content-wrap\n",
      "INFO - 20:56:06: Top 5 : 36.220 .post-inner>.entry-details\n",
      "INFO - 20:56:06: Top 5 : 35.110 .post-inner>.entry-details\n",
      "INFO - 20:56:06: Top 5 : 34.150 .post-inner>.entry-details\n",
      "INFO - 20:56:08: ruthless removal did not work. \n",
      "INFO - 20:56:08: Top 5 : 213.894 .entry-content-wrap>.entry-content\n",
      "INFO - 20:56:08: Top 5 : 121.433 .entry-container>.entry-content-wrap\n",
      "INFO - 20:56:08: Top 5 : 36.220 .post-inner>.entry-details\n",
      "INFO - 20:56:08: Top 5 : 35.190 .post-inner>.entry-details\n",
      "INFO - 20:56:08: Top 5 : 35.120 .post-inner>.entry-details\n",
      "INFO - 20:56:10: ruthless removal did not work. \n",
      "INFO - 20:56:10: Top 5 : 157.512 .entry-content-wrap>.entry-content\n",
      "INFO - 20:56:10: Top 5 : 93.129 .entry-container>.entry-content-wrap\n",
      "INFO - 20:56:10: Top 5 : 36.220 .post-inner>.entry-details\n",
      "INFO - 20:56:10: Top 5 : 35.190 .post-inner>.entry-details\n",
      "INFO - 20:56:10: Top 5 : 35.120 .post-inner>.entry-details\n",
      "INFO - 20:56:11: ruthless removal did not work. \n",
      "INFO - 20:56:11: Top 5 : 164.039 .entry-content-wrap>.entry-content\n",
      "INFO - 20:56:11: Top 5 : 96.456 .entry-container>.entry-content-wrap\n",
      "INFO - 20:56:11: Top 5 : 36.220 .post-inner>.entry-details\n",
      "INFO - 20:56:11: Top 5 : 35.190 .post-inner>.entry-details\n",
      "INFO - 20:56:11: Top 5 : 35.120 .post-inner>.entry-details\n"
     ]
    }
   ],
   "source": [
    "from gensim.models.phrases import Phrases, Phraser\n",
    "from gensim.models import Word2Vec\n",
    "\n",
    "pages = read_pages(urls)\n",
    "\n",
    "kwargs = {'as_strings':True, 'normalize': None, 'ngrams':(1)}\n",
    "\n",
    "corpus = build_corpus(pages, kwargs)\n",
    "assert len(corpus) == len(pages)"
   ]
  },
  {
   "cell_type": "markdown",
   "metadata": {},
   "source": [
    "## Retrieve unigrams and bigrams from vocab\n",
    "After building the corpora, the senteces are passed to gensim's Phrases model that detects common phrases and its ngrams."
   ]
  },
  {
   "cell_type": "code",
   "execution_count": 10,
   "metadata": {},
   "outputs": [
    {
     "name": "stderr",
     "output_type": "stream",
     "text": [
      "INFO - 20:56:11: collecting all words and their counts\n",
      "INFO - 20:56:11: PROGRESS: at sentence #0, processed 0 words and 0 word types\n",
      "INFO - 20:56:11: collected 9172 word types from a corpus of 7235 words (unigram + bigrams) and 13 sentences\n",
      "INFO - 20:56:11: using 9172 counts as vocab in Phrases<0 vocab, min_count=5, threshold=10.0, max_vocab_size=40000000>\n"
     ]
    }
   ],
   "source": [
    "phrases = Phrases(corpus)\n",
    "sentences = phrases[corpus]"
   ]
  },
  {
   "cell_type": "markdown",
   "metadata": {},
   "source": [
    "## Build model vocab\n",
    "Buuild the model vocabulary based on the sentences previously created."
   ]
  },
  {
   "cell_type": "code",
   "execution_count": 11,
   "metadata": {},
   "outputs": [
    {
     "name": "stderr",
     "output_type": "stream",
     "text": [
      "INFO - 20:56:11: collecting all words and their counts\n",
      "INFO - 20:56:11: PROGRESS: at sentence #0, processed 0 words, keeping 0 word types\n",
      "INFO - 20:56:11: collected 2661 word types from a corpus of 7017 raw words and 13 sentences\n",
      "INFO - 20:56:11: Loading a fresh vocabulary\n",
      "INFO - 20:56:11: effective_min_count=5 retains 331 unique words (12% of original 2661, drops 2330)\n",
      "INFO - 20:56:11: effective_min_count=5 leaves 3578 word corpus (50% of original 7017, drops 3439)\n",
      "INFO - 20:56:11: deleting the raw counts dictionary of 2661 items\n",
      "INFO - 20:56:11: sample=0.001 downsamples 123 most-common words\n",
      "INFO - 20:56:11: downsampling leaves estimated 2719 word corpus (76.0% of prior 3578)\n",
      "INFO - 20:56:11: estimated required memory for 331 words and 100 dimensions: 430300 bytes\n",
      "INFO - 20:56:11: resetting layer weights\n"
     ]
    },
    {
     "name": "stdout",
     "output_type": "stream",
     "text": [
      "Time to build vocab: 0.0 mins\n",
      "Vocabulary size: 331 word\n"
     ]
    }
   ],
   "source": [
    "# Build model vocab\n",
    "from time import time\n",
    "\n",
    "w2v_model = Word2Vec()\n",
    "\n",
    "t = time()\n",
    "w2v_model.build_vocab(sentences)\n",
    "print(f'Time to build vocab: {round((time() - t) / 60, 2)} mins')\n",
    "\n",
    "print(f'Vocabulary size: {len(w2v_model.wv.vocab)} word')"
   ]
  },
  {
   "cell_type": "markdown",
   "metadata": {},
   "source": [
    "## Train model\n",
    "Train the Word2Vec model, using the following parameters:\n",
    "\n",
    "- `size`: 100 (dimensionality of the word vectors)\n",
    "- `alpha`: 0.025 (initial learning rate)\n",
    "- `window`: 5 (maximum distance between the current and predicted word within a sentence)\n",
    "- `seed`: 1 (random generator seed for reproducibility)\n",
    "- `min_alpha`: 0.0001 (learning rate lower bound)\n",
    "- `min_count`: 5 (word frequency lower bound)\n",
    "- `negative`: 5 (if > 0, sets how many “noise words” should be drawn (usually between 5-20))\n",
    "- `epochs`: 30 (number of epochs, i.e. iterations, over the corpus)\n",
    "- `report_delay`: 1 (seconds to wait before reporting progress)\n",
    "- `total_examples`: 13 (corpus length)"
   ]
  },
  {
   "cell_type": "code",
   "execution_count": 12,
   "metadata": {
    "scrolled": false
   },
   "outputs": [
    {
     "name": "stderr",
     "output_type": "stream",
     "text": [
      "INFO - 20:56:11: training model with 3 workers on 331 vocabulary and 100 features, using sg=0 hs=0 sample=0.001 negative=5 window=5\n",
      "INFO - 20:56:12: worker thread finished; awaiting finish of 2 more threads\n",
      "INFO - 20:56:12: worker thread finished; awaiting finish of 1 more threads\n",
      "INFO - 20:56:12: worker thread finished; awaiting finish of 0 more threads\n",
      "INFO - 20:56:12: EPOCH - 1 : training on 7017 raw words (2669 effective words) took 0.1s, 42811 effective words/s\n",
      "INFO - 20:56:12: worker thread finished; awaiting finish of 2 more threads\n",
      "INFO - 20:56:12: worker thread finished; awaiting finish of 1 more threads\n",
      "INFO - 20:56:12: worker thread finished; awaiting finish of 0 more threads\n",
      "INFO - 20:56:12: EPOCH - 2 : training on 7017 raw words (2744 effective words) took 0.0s, 65635 effective words/s\n",
      "INFO - 20:56:12: worker thread finished; awaiting finish of 2 more threads\n",
      "INFO - 20:56:12: worker thread finished; awaiting finish of 1 more threads\n",
      "INFO - 20:56:12: worker thread finished; awaiting finish of 0 more threads\n",
      "INFO - 20:56:12: EPOCH - 3 : training on 7017 raw words (2745 effective words) took 0.0s, 58315 effective words/s\n",
      "INFO - 20:56:12: worker thread finished; awaiting finish of 2 more threads\n",
      "INFO - 20:56:12: worker thread finished; awaiting finish of 1 more threads\n",
      "INFO - 20:56:12: worker thread finished; awaiting finish of 0 more threads\n",
      "INFO - 20:56:12: EPOCH - 4 : training on 7017 raw words (2726 effective words) took 0.0s, 58224 effective words/s\n",
      "INFO - 20:56:12: worker thread finished; awaiting finish of 2 more threads\n",
      "INFO - 20:56:12: worker thread finished; awaiting finish of 1 more threads\n",
      "INFO - 20:56:12: worker thread finished; awaiting finish of 0 more threads\n",
      "INFO - 20:56:12: EPOCH - 5 : training on 7017 raw words (2738 effective words) took 0.1s, 53695 effective words/s\n",
      "INFO - 20:56:12: worker thread finished; awaiting finish of 2 more threads\n",
      "INFO - 20:56:12: worker thread finished; awaiting finish of 1 more threads\n",
      "INFO - 20:56:12: worker thread finished; awaiting finish of 0 more threads\n",
      "INFO - 20:56:12: EPOCH - 6 : training on 7017 raw words (2720 effective words) took 0.1s, 40279 effective words/s\n",
      "INFO - 20:56:12: worker thread finished; awaiting finish of 2 more threads\n",
      "INFO - 20:56:12: worker thread finished; awaiting finish of 1 more threads\n",
      "INFO - 20:56:12: worker thread finished; awaiting finish of 0 more threads\n",
      "INFO - 20:56:12: EPOCH - 7 : training on 7017 raw words (2744 effective words) took 0.1s, 49482 effective words/s\n",
      "INFO - 20:56:12: worker thread finished; awaiting finish of 2 more threads\n",
      "INFO - 20:56:12: worker thread finished; awaiting finish of 1 more threads\n",
      "INFO - 20:56:12: worker thread finished; awaiting finish of 0 more threads\n",
      "INFO - 20:56:12: EPOCH - 8 : training on 7017 raw words (2709 effective words) took 0.1s, 52585 effective words/s\n",
      "INFO - 20:56:12: worker thread finished; awaiting finish of 2 more threads\n",
      "INFO - 20:56:12: worker thread finished; awaiting finish of 1 more threads\n",
      "INFO - 20:56:12: worker thread finished; awaiting finish of 0 more threads\n",
      "INFO - 20:56:12: EPOCH - 9 : training on 7017 raw words (2724 effective words) took 0.1s, 44613 effective words/s\n",
      "INFO - 20:56:12: worker thread finished; awaiting finish of 2 more threads\n",
      "INFO - 20:56:12: worker thread finished; awaiting finish of 1 more threads\n",
      "INFO - 20:56:12: worker thread finished; awaiting finish of 0 more threads\n",
      "INFO - 20:56:12: EPOCH - 10 : training on 7017 raw words (2753 effective words) took 0.1s, 52775 effective words/s\n",
      "INFO - 20:56:12: worker thread finished; awaiting finish of 2 more threads\n",
      "INFO - 20:56:12: worker thread finished; awaiting finish of 1 more threads\n",
      "INFO - 20:56:12: worker thread finished; awaiting finish of 0 more threads\n",
      "INFO - 20:56:12: EPOCH - 11 : training on 7017 raw words (2688 effective words) took 0.0s, 55435 effective words/s\n",
      "INFO - 20:56:12: worker thread finished; awaiting finish of 2 more threads\n",
      "INFO - 20:56:12: worker thread finished; awaiting finish of 1 more threads\n",
      "INFO - 20:56:12: worker thread finished; awaiting finish of 0 more threads\n",
      "INFO - 20:56:12: EPOCH - 12 : training on 7017 raw words (2724 effective words) took 0.1s, 44559 effective words/s\n",
      "INFO - 20:56:12: worker thread finished; awaiting finish of 2 more threads\n",
      "INFO - 20:56:12: worker thread finished; awaiting finish of 1 more threads\n",
      "INFO - 20:56:12: worker thread finished; awaiting finish of 0 more threads\n",
      "INFO - 20:56:12: EPOCH - 13 : training on 7017 raw words (2704 effective words) took 0.0s, 54870 effective words/s\n",
      "INFO - 20:56:12: worker thread finished; awaiting finish of 2 more threads\n",
      "INFO - 20:56:12: worker thread finished; awaiting finish of 1 more threads\n",
      "INFO - 20:56:12: worker thread finished; awaiting finish of 0 more threads\n",
      "INFO - 20:56:12: EPOCH - 14 : training on 7017 raw words (2737 effective words) took 0.0s, 62076 effective words/s\n",
      "INFO - 20:56:12: worker thread finished; awaiting finish of 2 more threads\n",
      "INFO - 20:56:12: worker thread finished; awaiting finish of 1 more threads\n",
      "INFO - 20:56:12: worker thread finished; awaiting finish of 0 more threads\n",
      "INFO - 20:56:12: EPOCH - 15 : training on 7017 raw words (2716 effective words) took 0.0s, 60756 effective words/s\n",
      "INFO - 20:56:12: worker thread finished; awaiting finish of 2 more threads\n",
      "INFO - 20:56:12: worker thread finished; awaiting finish of 1 more threads\n",
      "INFO - 20:56:12: worker thread finished; awaiting finish of 0 more threads\n",
      "INFO - 20:56:12: EPOCH - 16 : training on 7017 raw words (2728 effective words) took 0.1s, 51388 effective words/s\n",
      "INFO - 20:56:12: worker thread finished; awaiting finish of 2 more threads\n",
      "INFO - 20:56:12: worker thread finished; awaiting finish of 1 more threads\n",
      "INFO - 20:56:12: worker thread finished; awaiting finish of 0 more threads\n",
      "INFO - 20:56:12: EPOCH - 17 : training on 7017 raw words (2716 effective words) took 0.0s, 54394 effective words/s\n",
      "INFO - 20:56:13: worker thread finished; awaiting finish of 2 more threads\n",
      "INFO - 20:56:13: worker thread finished; awaiting finish of 1 more threads\n",
      "INFO - 20:56:13: worker thread finished; awaiting finish of 0 more threads\n",
      "INFO - 20:56:13: EPOCH - 18 : training on 7017 raw words (2722 effective words) took 0.0s, 62181 effective words/s\n",
      "INFO - 20:56:13: worker thread finished; awaiting finish of 2 more threads\n",
      "INFO - 20:56:13: worker thread finished; awaiting finish of 1 more threads\n",
      "INFO - 20:56:13: worker thread finished; awaiting finish of 0 more threads\n",
      "INFO - 20:56:13: EPOCH - 19 : training on 7017 raw words (2710 effective words) took 0.0s, 57054 effective words/s\n",
      "INFO - 20:56:13: worker thread finished; awaiting finish of 2 more threads\n",
      "INFO - 20:56:13: worker thread finished; awaiting finish of 1 more threads\n",
      "INFO - 20:56:13: worker thread finished; awaiting finish of 0 more threads\n",
      "INFO - 20:56:13: EPOCH - 20 : training on 7017 raw words (2727 effective words) took 0.0s, 61072 effective words/s\n",
      "INFO - 20:56:13: worker thread finished; awaiting finish of 2 more threads\n",
      "INFO - 20:56:13: worker thread finished; awaiting finish of 1 more threads\n",
      "INFO - 20:56:13: worker thread finished; awaiting finish of 0 more threads\n",
      "INFO - 20:56:13: EPOCH - 21 : training on 7017 raw words (2693 effective words) took 0.1s, 33404 effective words/s\n",
      "INFO - 20:56:13: worker thread finished; awaiting finish of 2 more threads\n",
      "INFO - 20:56:13: worker thread finished; awaiting finish of 1 more threads\n",
      "INFO - 20:56:13: worker thread finished; awaiting finish of 0 more threads\n",
      "INFO - 20:56:13: EPOCH - 22 : training on 7017 raw words (2728 effective words) took 0.0s, 59100 effective words/s\n",
      "INFO - 20:56:13: worker thread finished; awaiting finish of 2 more threads\n",
      "INFO - 20:56:13: worker thread finished; awaiting finish of 1 more threads\n",
      "INFO - 20:56:13: worker thread finished; awaiting finish of 0 more threads\n",
      "INFO - 20:56:13: EPOCH - 23 : training on 7017 raw words (2721 effective words) took 0.0s, 57311 effective words/s\n",
      "INFO - 20:56:13: worker thread finished; awaiting finish of 2 more threads\n",
      "INFO - 20:56:13: worker thread finished; awaiting finish of 1 more threads\n",
      "INFO - 20:56:13: worker thread finished; awaiting finish of 0 more threads\n",
      "INFO - 20:56:13: EPOCH - 24 : training on 7017 raw words (2702 effective words) took 0.1s, 46256 effective words/s\n"
     ]
    },
    {
     "name": "stderr",
     "output_type": "stream",
     "text": [
      "INFO - 20:56:13: worker thread finished; awaiting finish of 2 more threads\n",
      "INFO - 20:56:13: worker thread finished; awaiting finish of 1 more threads\n",
      "INFO - 20:56:13: worker thread finished; awaiting finish of 0 more threads\n",
      "INFO - 20:56:13: EPOCH - 25 : training on 7017 raw words (2700 effective words) took 0.0s, 55157 effective words/s\n",
      "INFO - 20:56:13: worker thread finished; awaiting finish of 2 more threads\n",
      "INFO - 20:56:13: worker thread finished; awaiting finish of 1 more threads\n",
      "INFO - 20:56:13: worker thread finished; awaiting finish of 0 more threads\n",
      "INFO - 20:56:13: EPOCH - 26 : training on 7017 raw words (2721 effective words) took 0.0s, 63541 effective words/s\n",
      "INFO - 20:56:13: worker thread finished; awaiting finish of 2 more threads\n",
      "INFO - 20:56:13: worker thread finished; awaiting finish of 1 more threads\n",
      "INFO - 20:56:13: worker thread finished; awaiting finish of 0 more threads\n",
      "INFO - 20:56:13: EPOCH - 27 : training on 7017 raw words (2712 effective words) took 0.0s, 54304 effective words/s\n",
      "INFO - 20:56:13: worker thread finished; awaiting finish of 2 more threads\n",
      "INFO - 20:56:13: worker thread finished; awaiting finish of 1 more threads\n",
      "INFO - 20:56:13: worker thread finished; awaiting finish of 0 more threads\n",
      "INFO - 20:56:13: EPOCH - 28 : training on 7017 raw words (2698 effective words) took 0.0s, 64871 effective words/s\n",
      "INFO - 20:56:13: worker thread finished; awaiting finish of 2 more threads\n",
      "INFO - 20:56:13: worker thread finished; awaiting finish of 1 more threads\n",
      "INFO - 20:56:13: worker thread finished; awaiting finish of 0 more threads\n",
      "INFO - 20:56:13: EPOCH - 29 : training on 7017 raw words (2741 effective words) took 0.0s, 63927 effective words/s\n",
      "INFO - 20:56:13: worker thread finished; awaiting finish of 2 more threads\n",
      "INFO - 20:56:13: worker thread finished; awaiting finish of 1 more threads\n",
      "INFO - 20:56:13: worker thread finished; awaiting finish of 0 more threads\n",
      "INFO - 20:56:13: EPOCH - 30 : training on 7017 raw words (2678 effective words) took 0.1s, 47854 effective words/s\n",
      "INFO - 20:56:13: training on a 210510 raw words (81538 effective words) took 1.8s, 45196 effective words/s\n"
     ]
    },
    {
     "name": "stdout",
     "output_type": "stream",
     "text": [
      "Time to train the model: 0.03 mins\n"
     ]
    }
   ],
   "source": [
    "# Train model\n",
    "t = time()\n",
    "\n",
    "w2v_model.train(sentences, \n",
    "                total_examples=w2v_model.corpus_count, \n",
    "                epochs=30, \n",
    "                report_delay=1,\n",
    "                seed=1\n",
    "               )\n",
    "\n",
    "print(f'Time to train the model: {round((time() - t) / 60, 2)} mins')"
   ]
  },
  {
   "cell_type": "code",
   "execution_count": 13,
   "metadata": {},
   "outputs": [
    {
     "name": "stderr",
     "output_type": "stream",
     "text": [
      "INFO - 20:56:13: precomputing L2-norms of word weight vectors\n"
     ]
    }
   ],
   "source": [
    "# Pre compute L2-normalized vector\n",
    "# After this call, no more training can be done\n",
    "\n",
    "w2v_model.wv.init_sims(replace=True)"
   ]
  },
  {
   "cell_type": "markdown",
   "metadata": {},
   "source": [
    "## Vector representation\n",
    "Since Word2Vec model assignsa vector representation to each word, below are some of them."
   ]
  },
  {
   "cell_type": "code",
   "execution_count": 14,
   "metadata": {},
   "outputs": [
    {
     "data": {
      "text/plain": [
       "dict_keys(['nlp', 'natural', 'processamento_linguagem', 'português', 'tecnologia', 'usada', 'ajudar', 'linguagem', 'humano', 'maneira', 'responder', 'demandas', 'processo', 'simples', 'aplicativos', 'realizar', 'pesquisa', 'google', 'receber', 'resposta', 'qualidade', 'usam', 'linguagens', 'diferentes', 'preciso', 'permitir', 'compreensão', 'máquina', 'melhor', 'experiência', 'usuário', 'conversa', 'texto', 'inteligência_artificial', 'ia', 'desenvolver', 'capacidade', 'entender', 'seres_humanos', 'diferença', 'linguagem_natural', 'programação', 'humanos', 'pessoas', 'máquinas', 'comuns', 'podemos', 'criar', 'sistemas', 'aplicações', 'permite', 'entenda', 'usando', 'respostas', 'interações', 'exemplos', 'aplicação', 'chatbot', 'empresa', 'capaz', 'informações', 'contato', 'usuários', 'estrutura', 'complexos', 'sendo', 'possa', 'humana', 'conceitos', 'processamento', 'machine_learning', 'deep', 'learning', 'ml', 'aprendizado_máquina', 'assunto', 'redes', 'neurais', 'melhorar', 'fala', 'leia', 'funciona', 'uso', 'tecnologias', 'importante', 'melhores', 'experiências', 'necessidades', 'deseja', 'problema', 'cliente', 'sociais', 'capazes', 'conteúdo', 'canal', 'comunicação', 'oferecer', 'palavras', 'dia', 'banco', 'contexto', 'intenção', 'análise', 'diálogo', 'interação', 'precisa', 'principal', 'caso', 'razão', 'mensagem', 'via', 'mercado', 'ferramentas', 'dados', 'vídeo', 'aprender', 'principais', 'usos', 'coisas', 'plataforma', 'busca', 'artigo', 'passam', 'entendimento', 'resultados', 'feito', 'pensando', 'acontece', 'atualmente', 'existem', 'clientes', 'conhece', 'compreender', 'voz', 'outro', 'nlp_chatbot', 'lista', 'recente', 'estudo', 'organizações', 'chatbots', 'casos', 'presente', 'vida', 'software', 'mensagens', 'whatsapp', 'facebook', 'messenger', 'estratégia', 'marketing', 'empresas', 'atendimento', 'suporte', 'organização', 'ações', 'marketing_vendas', 'e-mail', 'desafios', 'continuar', 'evolução', 'conceito', 'manter', 'resolver', 'satisfação', 'tornar', 'relacionamento', 'negócios', 'consumidores', 'facilitar', 'tarefas', 'conta', 'dias', 'mundo', 'muitas', 'erros', 'regras', 'pessoa', 'extremamente', 'situação', 'ideia', 'implementação', 'conjunto', 'bot', 'seguir', 'dialogflow', 'luis', 'microsoft', 'quase', 'oferece', 'criação', 'provedor', 'brasil', 'recursos', 'construir', 'bots', 'machine', 'canais', 'digitais', 'nome', 'service', 'serviço', 'objetivo', 'inteligência', 'baseado', 'solução', 'comum', 'maneiras', 'vantagens', 'benefícios', 'dúvidas', 'blip', 'criada', 'take', 'provedores', 'watson', 'eficiente', 'conheça', 'soluções', 'serviços', 'equipe', 'processos', 'provedores_nlp', 'inteligencia_artificial', 'traz', 'experiência_cliente', 'post', 'negócio', 'usado', 'plataformas', 'ibm', 'entidades', 'formas', 'frases', 'valores', 'mesma', 'utilizar', 'construção', 'agentes', 'possui', 'tipos', 'conhecer', 'ajuda', 'time', 'inovação', 'velocidade', 'fundamental', 'novidades', 'confira', 'brasileiro', 'diversas', 'evento', 'tendências', 'edição', 'tema', 'big_data', 'principalmente', 'internet', 'segurança', 'informação', 'sucesso', 'trabalhar', 'horas', 'curso', 'desenvolvimento', 'longo', 'áreas', 'gestão', 'inteligentes', 'colocar', 'prática', 'estratégias', 'pensar', 'avanço', 'entretanto', 'decisões', 'redução', 'difícil', 'automação', 'vendas', 'desempenho', 'algoritmos', 'n', 'produtos', 'verdadeira', 'transformação_digital', 'público', 'rápida', 'volume', 'produto', 'práticas', 'algoritmo', 'hub', 'tomada_decisão', 'conteúdos', 'hub_inteligência', 'artificial', 'hoje', 'custo', 'disponíveis', 'trabalho', 'necessidade', 'ferramenta', 'oportunidades', 'trabalhar_inteligência', 'milhões', 'várias', 'etc', 'analista', 'sites', 'necessário', 'frentes', 'possibilidades', 'pergunta', 'sucesso_cliente', 'diretrizes', 'marcas', 'gente', 'compra', 'marca', 'escalabilidade', 'gerar', 'digital', 'passo', 'perguntas', 'testes', 'vamos', 'semana', 'quantidade_dados', 'bancos', 'perfil'])"
      ]
     },
     "execution_count": 14,
     "metadata": {},
     "output_type": "execute_result"
    }
   ],
   "source": [
    "w2v_model.wv.vocab.keys()"
   ]
  },
  {
   "cell_type": "code",
   "execution_count": 15,
   "metadata": {},
   "outputs": [],
   "source": [
    "def print_w2v(w2v_model, word):\n",
    "    print(f'Vector of word \"{word}\"')\n",
    "    print(w2v_model.wv.word_vec(word))"
   ]
  },
  {
   "cell_type": "code",
   "execution_count": 16,
   "metadata": {},
   "outputs": [
    {
     "name": "stdout",
     "output_type": "stream",
     "text": [
      "Vector of word \"nlp\"\n",
      "[-4.46643196e-02 -1.09633461e-01 -2.21896488e-02 -9.64248106e-02\n",
      " -1.11318499e-01  2.25752462e-02  1.86046466e-01 -1.11247309e-01\n",
      "  3.69046703e-02  1.40680939e-01  2.13314649e-02  1.66864142e-01\n",
      "  1.99270342e-02 -2.09728688e-01 -2.17698142e-02  9.94488150e-02\n",
      "  1.16095943e-02  1.44769311e-01 -8.65971446e-02 -1.13751188e-01\n",
      "  6.75724745e-02  7.90500734e-03  1.16465390e-02  1.50430501e-01\n",
      "  6.93926066e-02 -2.16823649e-02  2.67310739e-02  8.26434270e-02\n",
      " -6.85559884e-02  1.15670897e-01 -4.27743560e-03 -1.25000820e-01\n",
      " -5.09605259e-02 -1.03956319e-01 -5.97085617e-02  7.04443157e-02\n",
      "  5.79724759e-02 -8.07820633e-02  3.73213589e-02  1.07771166e-01\n",
      " -6.02813363e-02 -5.22259660e-02  1.96655765e-02 -4.80332441e-04\n",
      "  2.12737709e-01 -6.73724338e-02  5.81009127e-02  7.15658739e-02\n",
      "  6.70396164e-02  9.83492732e-02 -1.13999724e-01  1.56138907e-03\n",
      " -2.01230034e-01  1.03129961e-01 -3.53823826e-02 -3.19257937e-02\n",
      " -1.93158925e-01  8.92082676e-02 -4.38630348e-03 -1.39225721e-01\n",
      "  1.49851337e-01 -1.13551058e-01  3.79403150e-06 -9.93768871e-02\n",
      " -7.82950222e-02 -9.77486372e-02 -1.13434747e-01  3.43858004e-02\n",
      " -1.80537656e-01  1.12145673e-02  1.37631997e-01  1.70904193e-02\n",
      " -6.12052195e-02  1.34530410e-01 -1.00503132e-01  1.59109354e-01\n",
      "  3.61461528e-02 -1.38926247e-04  1.30543202e-01  2.77767777e-01\n",
      " -1.37645081e-01  9.05809850e-02  2.86755059e-02  6.05505221e-02\n",
      "  9.87019390e-02 -1.70573190e-01  3.75244766e-02  1.03071272e-01\n",
      "  2.30181329e-02 -3.71887833e-02  7.20710680e-02  1.67660728e-01\n",
      " -1.41560048e-01 -5.68518452e-02  2.20965571e-03  1.27020925e-01\n",
      "  1.45939011e-02  5.48960790e-02  2.06575748e-02 -3.24800573e-02]\n",
      "Vector of word \"machine_learning\"\n",
      "[-0.04651578 -0.11324292 -0.02120415 -0.0954758  -0.11342082  0.02324783\n",
      "  0.18673229 -0.11334812  0.0344815   0.13929425  0.01921208  0.16587994\n",
      "  0.01381032 -0.2120352  -0.01967843  0.1026428   0.01051777  0.14906493\n",
      " -0.08795068 -0.11484876  0.06313241  0.00805636  0.01596575  0.15013826\n",
      "  0.06368262 -0.02230943  0.02464915  0.07859289 -0.0641407   0.11691691\n",
      " -0.00253303 -0.12592545 -0.04794116 -0.1079917  -0.06131672  0.06858749\n",
      "  0.06161863 -0.07814606  0.03931645  0.10559668 -0.06114583 -0.05493663\n",
      "  0.02503649  0.00092593  0.21383357 -0.06851117  0.06213513  0.07114202\n",
      "  0.07053165  0.09535959 -0.109575    0.00086966 -0.19674589  0.10437657\n",
      " -0.03480338 -0.03584542 -0.19471718  0.08463579 -0.0026238  -0.14208539\n",
      "  0.14973927 -0.11847878  0.00167943 -0.09997453 -0.07775962 -0.09890176\n",
      " -0.1122497   0.03413489 -0.17631312  0.01471694  0.1340366   0.01862863\n",
      " -0.06455774  0.13654068 -0.09899935  0.16015427  0.03864655 -0.00259506\n",
      "  0.13400441  0.27878684 -0.13958625  0.08609139  0.03031287  0.05657132\n",
      "  0.09875461 -0.1663741   0.03532469  0.10114663  0.02605918 -0.03748874\n",
      "  0.07335396  0.1658403  -0.13676625 -0.0632363   0.00525149  0.12567413\n",
      "  0.01023844  0.05642468  0.01914418 -0.03616128]\n"
     ]
    }
   ],
   "source": [
    "print_w2v(w2v_model, 'nlp')\n",
    "print_w2v(w2v_model, 'machine_learning')"
   ]
  },
  {
   "cell_type": "markdown",
   "metadata": {},
   "source": [
    "## Most similar\n",
    "Word embeddings enables us to find similarities along the vector space through calculations such as cosine one. Below we have top 10 similar word for 3 words present in the vocabulary."
   ]
  },
  {
   "cell_type": "code",
   "execution_count": 17,
   "metadata": {},
   "outputs": [],
   "source": [
    "def top_10_similar(w2v_model, word):\n",
    "    words = w2v_model.wv.most_similar(positive=[word])\n",
    "    words = [w[0] for w in words]\n",
    "    print(f'Top 10 similar words for {word}: {words}')"
   ]
  },
  {
   "cell_type": "code",
   "execution_count": 31,
   "metadata": {},
   "outputs": [
    {
     "name": "stdout",
     "output_type": "stream",
     "text": [
      "Top 10 similar words for aprender: ['assunto', 'algoritmos', 'humano', 'valores', 'ia', 'uso', 'importante', 'negócios', 'desenvolvimento', 'difícil']\n",
      "Top 10 similar words for machine_learning: ['algoritmos', 'permite', 'aprendizado_máquina', 'fala', 'inteligência_artificial', 'nlp', 'linguagens', 'ia', 'conceitos', 'usuário']\n",
      "Top 10 similar words for inteligência_artificial: ['compreender', 'ia', 'sendo', 'fala', 'precisa', 'sistemas', 'conjunto', 'usuário', 'interação', 'nlp']\n",
      "Top 10 similar words for nlp: ['entenda', 'diálogo', 'sistemas', 'inteligência_artificial', 'palavras', 'aprender', 'principais', 'compreensão', 'usuário', 'usuários']\n"
     ]
    }
   ],
   "source": [
    "top_10_similar(w2v_model, 'aprender')\n",
    "top_10_similar(w2v_model, 'machine_learning')\n",
    "top_10_similar(w2v_model, 'inteligência_artificial')\n",
    "top_10_similar(w2v_model, 'nlp')"
   ]
  },
  {
   "cell_type": "markdown",
   "metadata": {},
   "source": [
    "## Analogy difference\n",
    "Vector representations also enables us to sum and/or subtract words from other, leading to highly informative concepts as shown below."
   ]
  },
  {
   "cell_type": "code",
   "execution_count": 19,
   "metadata": {},
   "outputs": [],
   "source": [
    "def vector_association(w2v_model, positive_words, negative_word):\n",
    "    words = w2v_model.wv.most_similar(positive=positive_words, \n",
    "                                      negative=[negative_word],\n",
    "                                      topn=1)\n",
    "    words = [w[0] for w in words]\n",
    "    print(f'Which word is to \"{positive_words[0]}\" as \"{positive_words[1]}\" is to \"{negative_word}\"? {words}')"
   ]
  },
  {
   "cell_type": "code",
   "execution_count": 34,
   "metadata": {},
   "outputs": [
    {
     "name": "stdout",
     "output_type": "stream",
     "text": [
      "Which word is to \"chatbots\" as \"machine_learning\" is to \"nlp\"? ['sucesso']\n",
      "Which word is to \"usuário\" as \"nlp\" is to \"inteligência_artificial\"? ['resposta']\n"
     ]
    }
   ],
   "source": [
    "vector_association(w2v_model, ['chatbots', 'machine_learning'], \n",
    "                   'nlp')\n",
    "\n",
    "vector_association(w2v_model, ['usuário', 'nlp'], \n",
    "                   'inteligência_artificial')"
   ]
  },
  {
   "cell_type": "markdown",
   "metadata": {},
   "source": [
    "## Odd-One-Out\n",
    "If we want to know the word that deviates the most from a list of terms, we can ask for the most odd one"
   ]
  },
  {
   "cell_type": "code",
   "execution_count": 21,
   "metadata": {},
   "outputs": [],
   "source": [
    "def odd_one_out(w2v_model, words):\n",
    "    word = w2v_model.wv.doesnt_match(words)\n",
    "    print(f\"Which word doesn't fit in the list: {words}? {word}\")"
   ]
  },
  {
   "cell_type": "code",
   "execution_count": 22,
   "metadata": {},
   "outputs": [
    {
     "name": "stdout",
     "output_type": "stream",
     "text": [
      "Which word doesn't fit in the list: ['nlp', 'inteligência_artificial', 'evento']? evento\n"
     ]
    },
    {
     "name": "stderr",
     "output_type": "stream",
     "text": [
      "/home/ceciliassis/pessoal/machine-learning/natural-language-processing/word2vec/venv/lib/python3.7/site-packages/gensim/models/keyedvectors.py:877: FutureWarning: arrays to stack must be passed as a \"sequence\" type such as list or tuple. Support for non-sequence iterables such as generators is deprecated as of NumPy 1.16 and will raise an error in the future.\n",
      "  vectors = vstack(self.word_vec(word, use_norm=True) for word in used_words).astype(REAL)\n"
     ]
    }
   ],
   "source": [
    "odd_one_out(w2v_model, ['nlp', 'inteligência_artificial', 'evento'])"
   ]
  },
  {
   "cell_type": "markdown",
   "metadata": {},
   "source": [
    "## t-SNE visualization\n",
    "t-SNE (t-Distributed Stochastic Neighbor Embedding) is a technique for dimensionality reductition. Since humans are more confortable with spaces up to 3 dimensions, this kind of method helps to see how data fit on the explored vector space. \n",
    "\n",
    "For more info, see [Visualising high-dimensional datasets using PCA and t-SNE in Python](https://towardsdatascience.com/visualising-high-dimensional-datasets-using-pca-and-t-sne-in-python-8ef87e7915b) and [sklearn.manifold.TSNE](https://scikit-learn.org/stable/modules/generated/sklearn.manifold.TSNE.html)."
   ]
  },
  {
   "cell_type": "code",
   "execution_count": 23,
   "metadata": {},
   "outputs": [
    {
     "name": "stdout",
     "output_type": "stream",
     "text": [
      "Current word embedding dimension: (100,)\n"
     ]
    }
   ],
   "source": [
    "import numpy as np\n",
    "import pandas as pd\n",
    "import matplotlib.pyplot as plt\n",
    "%matplotlib inline\n",
    "\n",
    "import seaborn as sns\n",
    "sns.set_style(\"darkgrid\")\n",
    "\n",
    "from sklearn.decomposition import PCA\n",
    "from sklearn.manifold import TSNE\n",
    "\n",
    "print(f'Current word embedding dimension: {w2v_model.wv.get_vector(\"nlp\").shape}')"
   ]
  },
  {
   "cell_type": "code",
   "execution_count": 24,
   "metadata": {},
   "outputs": [],
   "source": [
    "def tsne_representation(w2v_model, word):\n",
    "    w2v_labels = [word]\n",
    "    w2v_colors = ['red']\n",
    "    w2v_arrays = np.empty((0,100), dtype='f')\n",
    "\n",
    "    w2v = w2v_model.wv.word_vec(\"nlp\")\n",
    "    w2v_arrays = np.append(w2v_arrays, [w2v], axis=0) \n",
    "\n",
    "    # Add similar words to w2v array\n",
    "    most_similar = w2v_model.wv.most_similar([word])\n",
    "    w2v_colors.extend(['black'] * len(most_similar))\n",
    "    for word_score in most_similar:\n",
    "        w2v_labels.append(word_score[0])\n",
    "        w2v = w2v_model.wv.word_vec(word_score[0])\n",
    "        w2v_arrays = np.append(w2v_arrays, [w2v], axis=0)\n",
    "    \n",
    "    # reduce w2v dims\n",
    "    t = time()\n",
    "    pca = PCA(n_components=5).fit_transform(w2v_arrays)\n",
    "    print(f'Time to train PCA: {round((time() - t) / 60, 2)} mins')\n",
    "    \n",
    "    t = time()\n",
    "    tsne = TSNE(n_components=2, random_state=0).fit_transform(pca)    \n",
    "    print(f'Time to train TSNE: {round((time() - t) / 60, 2)} mins')\n",
    "    \n",
    "    tsne_dataframe = pd.DataFrame({'x': [x for x in tsne[:, 0]],\n",
    "                                   'y': [y for y in tsne[:, 1]],\n",
    "                                   'word': w2v_labels,\n",
    "                                   'color': w2v_colors})\n",
    "    \n",
    "    # Define plot\n",
    "    fig = plt.figure(figsize=(10, 10))\n",
    "    \n",
    "    plot = sns.regplot(data=tsne_dataframe,\n",
    "                       x='x', \n",
    "                       y='y',\n",
    "                       fit_reg=False, \n",
    "                       marker='o', \n",
    "                       scatter_kws={\n",
    "                        's': 40, \n",
    "                           'facecolors': tsne_dataframe['color']\n",
    "                       })\n",
    "    \n",
    "    \n",
    "    # Set annotations\n",
    "    for line in range(0, tsne_dataframe.shape[0]):\n",
    "        plt.text(tsne_dataframe['x'][line], \n",
    "                tsne_dataframe['y'][line], \n",
    "                ' ' + tsne_dataframe['word'][line],\n",
    "                horizontalalignment='left',\n",
    "                verticalalignment='bottom', \n",
    "                size='medium',\n",
    "                color=tsne_dataframe['color'][line],\n",
    "                weight='normal'\n",
    "               ).set_size(15)\n",
    "        \n",
    "    plt.title(f't-SNE visualization for {word}')"
   ]
  },
  {
   "cell_type": "code",
   "execution_count": 25,
   "metadata": {
    "scrolled": false
   },
   "outputs": [
    {
     "name": "stdout",
     "output_type": "stream",
     "text": [
      "Time to train PCA: 0.0 mins\n",
      "Time to train TSNE: 1.5 mins\n"
     ]
    },
    {
     "data": {
      "image/png": "[encoded data removed]",
      "text/plain": [
       "<Figure size 720x720 with 1 Axes>"
      ]
     },
     "metadata": {},
     "output_type": "display_data"
    }
   ],
   "source": [
    "tsne_representation(w2v_model, 'machine_learning')"
   ]
  },
  {
   "cell_type": "code",
   "execution_count": 26,
   "metadata": {},
   "outputs": [
    {
     "name": "stdout",
     "output_type": "stream",
     "text": [
      "Time to train PCA: 0.0 mins\n",
      "Time to train TSNE: 1.38 mins\n"
     ]
    },
    {
     "data": {
      "image/png": "[encoded data removed]",
      "text/plain": [
       "<Figure size 720x720 with 1 Axes>"
      ]
     },
     "metadata": {},
     "output_type": "display_data"
    }
   ],
   "source": [
    "tsne_representation(w2v_model, 'linguagem_natural')"
   ]
  },
  {
   "cell_type": "markdown",
   "metadata": {},
   "source": [
    "## Summary\n",
    "Word embeddings allows us to match words against their context, enabling important discoveries.\n",
    "\n",
    "The results show that through the recovered blog posts, the term \"linguagem_natural\" (natural language) is associated with words like \"seres_humanos\" (human being), \"desenvolvimento\" (developement) and \"busca\" (search) which, when analyzed contextually, demonstrate the scenario that NLP has been inserted into. Another important result comes from the analogies between vocabulary terms, showing that users today are looking for answers and that sucess is chatbots as machine learning is to nlp.\n",
    "\n",
    "Finally, the term \"machine_learning\" was correctly associated with \"aprendizado_máquina\" (machine_learning), \"nlp\", \"inteligência_artificial\" (artificial inteligence) and \"algoritmos\" (algorithms), words that are very close to what \"machine_learning\" actually represents."
   ]
  },
  {
   "cell_type": "markdown",
   "metadata": {},
   "source": [
    "### Thanks to:\n",
    "- https://www.kaggle.com/pierremegret/gensim-word2vec-tutorial"
   ]
  }
 ],
 "metadata": {
  "kernelspec": {
   "display_name": "Python 3",
   "language": "python",
   "name": "python3"
  },
  "language_info": {
   "codemirror_mode": {
    "name": "ipython",
    "version": 3
   },
   "file_extension": ".py",
   "mimetype": "text/x-python",
   "name": "python",
   "nbconvert_exporter": "python",
   "pygments_lexer": "ipython3",
   "version": "3.7.4"
  }
 },
 "nbformat": 4,
 "nbformat_minor": 2
}

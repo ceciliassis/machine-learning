{
 "cells": [
  {
   "cell_type": "markdown",
   "metadata": {},
   "source": [
    "# Word embeddings - Word2Vec\n",
    "\n",
    "### Author: Cecília Assis\n",
    "#### Github: https://github.com/ceciliassis\n",
    "#### Linkedin: https://www.linkedin.com/in/ceciliassis/"
   ]
  },
  {
   "cell_type": "code",
   "execution_count": 1,
   "metadata": {},
   "outputs": [],
   "source": [
    "import logging  # Setting up the loggings to monitor gensim\n",
    "logging.basicConfig(format=\"%(levelname)s - %(asctime)s: %(message)s\", datefmt= '%H:%M:%S', level=logging.INFO)\n",
    "logger = logging.getLogger(__name__)"
   ]
  },
  {
   "cell_type": "code",
   "execution_count": 2,
   "metadata": {},
   "outputs": [],
   "source": [
    "HEADERS = {\n",
    "    'User-Agent': (\n",
    "        'Mozilla/5.0 (Macintosh; Intel Mac OS X 10_11_5) AppleWebKit/537.36'\n",
    "        '(KHTML, like Gecko) Chrome/50.0.2661.102 Safari/537.36'\n",
    "    )\n",
    "}\n",
    "\n",
    "urls = [\n",
    "    'https://take.net/blog/4devs/nlp-processamento-linguagem-natural/',\n",
    "    'https://take.net/blog/4devs/nlp-chatbot/',\n",
    "    'https://take.net/blog/4devs/cursos-para-aprender-sobre-chatbots/',\n",
    "    'https://take.net/blog/inovacao/motivos-usar-inteligencia-artificial/',\n",
    "    'https://take.net/blog/chatbots/algoritmos-inteligencia-artificial-crime/',\n",
    "    'https://take.net/blog/chatbots/inteligencia-artificial-no-blip/',\n",
    "    'https://take.net/blog/devs/trabalhar-com-inteligencia-artificial/',\n",
    "    'https://take.net/blog/inovacao/sucesso-do-cliente-e-inteligencia-artificial/',\n",
    "    'https://take.net/blog/take-test/testes-em-chatbots-com-nlp/',\n",
    "    'https://take.net/blog/chatbots/chatbot/',\n",
    "    'https://take.net/blog/inovacao/big-data/',\n",
    "    'https://take.net/blog/inovacao/big-data-no-trabalho/',\n",
    "    'https://take.net/blog/inovacao/transformacao-digital/'\n",
    "]"
   ]
  },
  {
   "cell_type": "code",
   "execution_count": 3,
   "metadata": {},
   "outputs": [],
   "source": [
    "# Define stric set of punctuations due to pre processing and Portuguese characteristics (ex. trata-se)\n",
    "PUNCTUATIONS = ['*', '+', '.', '/', '[', ']', '(', ')', ';', ':', '%', 'º',\n",
    "                '=', '!', '\"','“', \"'\", \"”\", \"#\", '{', '}', ',', '\\?']\n",
    "PUNCTUATIONS_STR = ''.join(PUNCTUATIONS)"
   ]
  },
  {
   "cell_type": "code",
   "execution_count": 4,
   "metadata": {},
   "outputs": [],
   "source": [
    "import spacy\n",
    "\n",
    "# Load spacy lang\n",
    "try:\n",
    "    spacy.load('pt', disable=['ner'])\n",
    "except OSError:\n",
    "    !python -m spacy download pt\n",
    "finally:\n",
    "    PT_LANG = spacy.load('pt', disable=['ner'])"
   ]
  },
  {
   "cell_type": "code",
   "execution_count": 5,
   "metadata": {},
   "outputs": [],
   "source": [
    "# Validade is a word is also a stopword\n",
    "def is_stopword(word):\n",
    "    return word in NLTK_STOPWORDS_TABLE"
   ]
  },
  {
   "cell_type": "code",
   "execution_count": 6,
   "metadata": {},
   "outputs": [],
   "source": [
    "import nltk\n",
    "\n",
    "# Add nltk stopwords to spacy\n",
    "try:\n",
    "    nltk.corpus.stopwords.words('portuguese')\n",
    "except LookupError:\n",
    "    nltk.download('stopwords')\n",
    "finally:\n",
    "    nltk_stopwords = nltk.corpus.stopwords.words('portuguese')\n",
    "    \n",
    "NLTK_STOPWORDS_TABLE = dict.fromkeys(i for i in nltk_stopwords)\n",
    "\n",
    "stopwords_extension = ['desse', 'dessa', 'disso', 'dessas', 'desses', \n",
    "                       'esse', 'essa', 'nisso', 'nessa', 'nesse', 'deste', 'desta']\n",
    "\n",
    "# Avoid akward spacy word break\n",
    "for stopword in stopwords_extension:\n",
    "    if not is_stopword(stopword):\n",
    "        NLTK_STOPWORDS_TABLE[stopword] = None"
   ]
  },
  {
   "cell_type": "code",
   "execution_count": 7,
   "metadata": {},
   "outputs": [],
   "source": [
    "import textacy.preprocessing\n",
    "import ftfy\n",
    "\n",
    "from readability import Document\n",
    "from bs4 import BeautifulSoup\n",
    "\n",
    "import requests\n",
    "\n",
    "class Article():\n",
    "    def __init__(self, url):\n",
    "        self.url = url\n",
    "        \n",
    "    @property\n",
    "    def html(self):\n",
    "        if not hasattr(self, '_html'):\n",
    "            self._html = self.get_html()\n",
    "    \n",
    "        return self._html\n",
    "    \n",
    "    \n",
    "    @property\n",
    "    def soup(self):\n",
    "        if not hasattr(self, '_soup'):\n",
    "            self._soup = self.get_soup()\n",
    "    \n",
    "        return self._soup\n",
    "    \n",
    "    @property\n",
    "    def text(self):\n",
    "        if not hasattr(self, '_text'):\n",
    "            self._text = self.get_text()\n",
    "    \n",
    "        return self._text\n",
    "    \n",
    "    @property\n",
    "    def spacy_doc(self):\n",
    "        if not hasattr(self, '_spacy_doc'):\n",
    "            self._spacy_doc = self.get_spacy_doc()\n",
    "    \n",
    "        return self._spacy_doc\n",
    "    \n",
    "    def get_html(self):\n",
    "        article = requests.get(self.url, headers=HEADERS)\n",
    "        \n",
    "        return article.content\n",
    "    \n",
    "    \n",
    "    def get_soup(self):\n",
    "        soup = BeautifulSoup(self.html, 'html.parser')\n",
    "        tags_to_remove = ['script', 'style', 'noscript', \n",
    "                          'aside', 'footer', 'header', 'div.newsletter']\n",
    "\n",
    "        for tag in soup(tags_to_remove):\n",
    "            tag.decompose()\n",
    "            \n",
    "        for tag in soup.find_all(class_='newsletter'):\n",
    "            tag.decompose()\n",
    "            \n",
    "        document = Document(soup.encode(formatter=\"html5\"))\n",
    "        soup = BeautifulSoup(document.summary(), 'html.parser')\n",
    "        \n",
    "        return soup\n",
    "        \n",
    "        \n",
    "    def get_text(self):\n",
    "        text = self.soup.get_text(\"\")\n",
    "        text = text.lower()\n",
    "        \n",
    "        text = ftfy.fix_text(text)\n",
    "        text = textacy.preprocessing.remove_punctuation(text, marks=PUNCTUATIONS_STR)\n",
    "        text = textacy.preprocessing.replace_numbers(text, replace_with=' ')\n",
    "        text = textacy.preprocessing.normalize_whitespace(text)\n",
    "\n",
    "        text = text.split()\n",
    "        text = ' '.join(word for word in text if not is_stopword(word))\n",
    "        \n",
    "        return text\n",
    "    \n",
    "    \n",
    "    def get_spacy_doc(self):\n",
    "        return textacy.make_spacy_doc(self.text, lang=PT_LANG)\n",
    "    \n",
    "\n",
    "#     ------------\n",
    "    \n",
    "def read_pages(urls):\n",
    "    return [Article(url) for url in urls]"
   ]
  },
  {
   "cell_type": "markdown",
   "metadata": {},
   "source": [
    "----"
   ]
  },
  {
   "cell_type": "markdown",
   "metadata": {},
   "source": [
    "## Build corpora\n",
    "Build corpora from posts"
   ]
  },
  {
   "cell_type": "code",
   "execution_count": 8,
   "metadata": {},
   "outputs": [],
   "source": [
    "def build_corpus(pages, kwargs):\n",
    "    return [\n",
    "        list(page.spacy_doc._.to_terms_list(**kwargs))\n",
    "        for page in pages\n",
    "    ]"
   ]
  },
  {
   "cell_type": "code",
   "execution_count": 9,
   "metadata": {
    "scrolled": false
   },
   "outputs": [
    {
     "name": "stderr",
     "output_type": "stream",
     "text": [
      "INFO - 23:32:34: ruthless removal did not work. \n",
      "INFO - 23:32:34: Top 5 : 424.523 .entry-content-wrap>.entry-content\n",
      "INFO - 23:32:34: Top 5 : 226.586 .entry-container>.entry-content-wrap\n",
      "INFO - 23:32:34: Top 5 : 36.100 .post-inner>.entry-details\n",
      "INFO - 23:32:34: Top 5 : 35.100 .post-inner>.entry-details\n",
      "INFO - 23:32:34: Top 5 : 34.300 .post-inner>.entry-details\n",
      "INFO - 23:32:39: ruthless removal did not work. \n",
      "INFO - 23:32:39: Top 5 : 102.768 .entry-content-wrap>.entry-content\n",
      "INFO - 23:32:39: Top 5 : 65.152 .entry-container>.entry-content-wrap\n",
      "INFO - 23:32:39: Top 5 : 36.100 .post-inner>.entry-details\n",
      "INFO - 23:32:39: Top 5 : 35.100 .post-inner>.entry-details\n",
      "INFO - 23:32:39: Top 5 : 34.300 .post-inner>.entry-details\n",
      "INFO - 23:32:44: ruthless removal did not work. \n",
      "INFO - 23:32:44: Top 5 : 123.783 .entry-content-wrap>.entry-content\n",
      "INFO - 23:32:44: Top 5 : 75.630 .entry-container>.entry-content-wrap\n",
      "INFO - 23:32:44: Top 5 : 36.100 .post-inner>.entry-details\n",
      "INFO - 23:32:44: Top 5 : 35.100 .post-inner>.entry-details\n",
      "INFO - 23:32:44: Top 5 : 34.300 .post-inner>.entry-details\n",
      "INFO - 23:32:45: ruthless removal did not work. \n",
      "INFO - 23:32:45: Top 5 : 153.039 .entry-content-wrap>.entry-content\n",
      "INFO - 23:32:45: Top 5 : 90.619 .entry-container>.entry-content-wrap\n",
      "INFO - 23:32:45: Top 5 : 36.220 .post-inner>.entry-details\n",
      "INFO - 23:32:45: Top 5 : 35.190 .post-inner>.entry-details\n",
      "INFO - 23:32:45: Top 5 : 35.120 .post-inner>.entry-details\n",
      "INFO - 23:32:47: ruthless removal did not work. \n",
      "INFO - 23:32:47: Top 5 : 158.426 .entry-content-wrap>.entry-content\n",
      "INFO - 23:32:47: Top 5 : 92.222 .entry-container>.entry-content-wrap\n",
      "INFO - 23:32:47: Top 5 : 36.220 .post-inner>.entry-details\n",
      "INFO - 23:32:47: Top 5 : 35.110 .post-inner>.entry-details\n",
      "INFO - 23:32:47: Top 5 : 34.150 .post-inner>.entry-details\n",
      "INFO - 23:32:49: ruthless removal did not work. \n",
      "INFO - 23:32:49: Top 5 : 145.547 .entry-content-wrap>.entry-content\n",
      "INFO - 23:32:49: Top 5 : 82.012 .entry-container>.entry-content-wrap\n",
      "INFO - 23:32:49: Top 5 : 36.220 .post-inner>.entry-details\n",
      "INFO - 23:32:49: Top 5 : 35.110 .post-inner>.entry-details\n",
      "INFO - 23:32:49: Top 5 : 34.150 .post-inner>.entry-details\n",
      "INFO - 23:32:50: ruthless removal did not work. \n",
      "INFO - 23:32:50: Top 5 : 120.537 .entry-content-wrap>.entry-content\n",
      "INFO - 23:32:50: Top 5 : 74.201 .entry-container>.entry-content-wrap\n",
      "INFO - 23:32:50: Top 5 : 36.100 .post-inner>.entry-details\n",
      "INFO - 23:32:50: Top 5 : 35.100 .post-inner>.entry-details\n",
      "INFO - 23:32:50: Top 5 : 34.300 .post-inner>.entry-details\n",
      "INFO - 23:32:52: ruthless removal did not work. \n",
      "INFO - 23:32:52: Top 5 : 148.385 .entry-content-wrap>.entry-content\n",
      "INFO - 23:32:52: Top 5 : 86.741 .entry-container>.entry-content-wrap\n",
      "INFO - 23:32:52: Top 5 : 36.220 .post-inner>.entry-details\n",
      "INFO - 23:32:52: Top 5 : 35.190 .post-inner>.entry-details\n",
      "INFO - 23:32:52: Top 5 : 35.120 .post-inner>.entry-details\n",
      "INFO - 23:32:54: ruthless removal did not work. \n",
      "INFO - 23:32:54: Top 5 : 110.912 .entry-content-wrap>.entry-content\n",
      "INFO - 23:32:54: Top 5 : 70.369 .entry-container>.entry-content-wrap\n",
      "INFO - 23:32:54: Top 5 : 27.075 section.entry-header.entry-header-standard.entry-header-thumbnail>.entry-header-inner\n",
      "INFO - 23:32:54: Top 5 : 21.931 article.entry-preview.entry.post-3833.post.type-post.status-publish.format-standard.has-post-thumbnail.category-experiencia.category-take-test.tag-blip.tag-chatbots.tag-nlp.tag-sdk>section.entry-header.entry-header-standard.entry-header-thumbnail\n",
      "INFO - 23:32:56: ruthless removal did not work. \n",
      "INFO - 23:32:56: Top 5 : 428.599 .entry-content-wrap>.entry-content\n",
      "INFO - 23:32:56: Top 5 : 228.699 .entry-container>.entry-content-wrap\n",
      "INFO - 23:32:56: Top 5 : 36.220 .post-inner>.entry-details\n",
      "INFO - 23:32:56: Top 5 : 35.110 .post-inner>.entry-details\n",
      "INFO - 23:32:56: Top 5 : 34.150 .post-inner>.entry-details\n",
      "INFO - 23:32:58: ruthless removal did not work. \n",
      "INFO - 23:32:58: Top 5 : 213.894 .entry-content-wrap>.entry-content\n",
      "INFO - 23:32:58: Top 5 : 121.433 .entry-container>.entry-content-wrap\n",
      "INFO - 23:32:58: Top 5 : 36.220 .post-inner>.entry-details\n",
      "INFO - 23:32:58: Top 5 : 35.190 .post-inner>.entry-details\n",
      "INFO - 23:32:58: Top 5 : 35.120 .post-inner>.entry-details\n",
      "INFO - 23:33:00: ruthless removal did not work. \n",
      "INFO - 23:33:00: Top 5 : 157.512 .entry-content-wrap>.entry-content\n",
      "INFO - 23:33:00: Top 5 : 93.129 .entry-container>.entry-content-wrap\n",
      "INFO - 23:33:00: Top 5 : 36.220 .post-inner>.entry-details\n",
      "INFO - 23:33:00: Top 5 : 35.190 .post-inner>.entry-details\n",
      "INFO - 23:33:00: Top 5 : 35.120 .post-inner>.entry-details\n",
      "INFO - 23:33:02: ruthless removal did not work. \n",
      "INFO - 23:33:02: Top 5 : 164.039 .entry-content-wrap>.entry-content\n",
      "INFO - 23:33:02: Top 5 : 96.456 .entry-container>.entry-content-wrap\n",
      "INFO - 23:33:02: Top 5 : 36.220 .post-inner>.entry-details\n",
      "INFO - 23:33:02: Top 5 : 35.190 .post-inner>.entry-details\n",
      "INFO - 23:33:02: Top 5 : 35.120 .post-inner>.entry-details\n"
     ]
    }
   ],
   "source": [
    "from gensim.models.phrases import Phrases, Phraser\n",
    "from gensim.models import Word2Vec\n",
    "\n",
    "pages = read_pages(urls)\n",
    "\n",
    "kwargs = {'as_strings':True, 'normalize': None, 'ngrams':(1)}\n",
    "\n",
    "corpus = build_corpus(pages, kwargs)\n",
    "assert len(corpus) == len(pages)"
   ]
  },
  {
   "cell_type": "markdown",
   "metadata": {},
   "source": [
    "## Retrieve unigrams and bigrams from vocab\n",
    "After building the corpora, the senteces are passed to gensim's Phrases model that detects common phrases and its ngrams."
   ]
  },
  {
   "cell_type": "code",
   "execution_count": 10,
   "metadata": {},
   "outputs": [
    {
     "name": "stderr",
     "output_type": "stream",
     "text": [
      "INFO - 23:33:02: collecting all words and their counts\n",
      "INFO - 23:33:02: PROGRESS: at sentence #0, processed 0 words and 0 word types\n",
      "INFO - 23:33:02: collected 9172 word types from a corpus of 7235 words (unigram + bigrams) and 13 sentences\n",
      "INFO - 23:33:02: using 9172 counts as vocab in Phrases<0 vocab, min_count=5, threshold=10.0, max_vocab_size=40000000>\n"
     ]
    }
   ],
   "source": [
    "phrases = Phrases(corpus)\n",
    "sentences = phrases[corpus]"
   ]
  },
  {
   "cell_type": "markdown",
   "metadata": {},
   "source": [
    "## Initialize model\n",
    "Initialize the Word2Vec model, using the following parameters:\n",
    "\n",
    "- `size`: 100 (dimensionality of the word vectors)\n",
    "- `alpha`: 0.025 (initial learning rate)\n",
    "- `window`: 5 (maximum distance between the current and predicted word within a sentence)\n",
    "- `seed`: 1 (random generator seed for reproducibility)\n",
    "- `min_alpha`: 0.0001 (learning rate lower bound)\n",
    "- `min_count`: 5 (word frequency lower bound)\n",
    "- `negative`: 5 (if > 0, sets how many “noise words” should be drawn (usually between 5-20))\n",
    "- `workers` : 1 (how many worker threads available to train the model. Set to 1 for reproducibility purposes)"
   ]
  },
  {
   "cell_type": "code",
   "execution_count": 38,
   "metadata": {},
   "outputs": [],
   "source": [
    "# Init model\n",
    "w2v_model = Word2Vec(seed=1, \n",
    "                     workers=1)"
   ]
  },
  {
   "cell_type": "markdown",
   "metadata": {},
   "source": [
    "## Build model vocab\n",
    "Buuild the model vocabulary based on the sentences previously created."
   ]
  },
  {
   "cell_type": "code",
   "execution_count": 39,
   "metadata": {},
   "outputs": [
    {
     "name": "stderr",
     "output_type": "stream",
     "text": [
      "INFO - 23:54:20: collecting all words and their counts\n",
      "INFO - 23:54:20: PROGRESS: at sentence #0, processed 0 words, keeping 0 word types\n",
      "INFO - 23:54:20: collected 2661 word types from a corpus of 7017 raw words and 13 sentences\n",
      "INFO - 23:54:20: Loading a fresh vocabulary\n",
      "INFO - 23:54:20: effective_min_count=5 retains 331 unique words (12% of original 2661, drops 2330)\n",
      "INFO - 23:54:20: effective_min_count=5 leaves 3578 word corpus (50% of original 7017, drops 3439)\n",
      "INFO - 23:54:20: deleting the raw counts dictionary of 2661 items\n",
      "INFO - 23:54:20: sample=0.001 downsamples 123 most-common words\n",
      "INFO - 23:54:20: downsampling leaves estimated 2719 word corpus (76.0% of prior 3578)\n",
      "INFO - 23:54:20: estimated required memory for 331 words and 100 dimensions: 430300 bytes\n",
      "INFO - 23:54:20: resetting layer weights\n"
     ]
    },
    {
     "name": "stdout",
     "output_type": "stream",
     "text": [
      "Time to build vocab: 0.0 mins\n",
      "Vocabulary size: 331 word\n"
     ]
    }
   ],
   "source": [
    "from time import time\n",
    "\n",
    "t = time()\n",
    "w2v_model.build_vocab(sentences)\n",
    "print(f'Time to build vocab: {round((time() - t) / 60, 2)} mins')\n",
    "\n",
    "print(f'Vocabulary size: {len(w2v_model.wv.vocab)} word')"
   ]
  },
  {
   "cell_type": "markdown",
   "metadata": {},
   "source": [
    "## Train model\n",
    "Train the Word2Vec model, using the following parameters:\n",
    "\n",
    "- `epochs`: 30 (number of epochs, i.e. iterations, over the corpus)\n",
    "- `report_delay`: 1 (seconds to wait before reporting progress)\n",
    "- `total_examples`: 13 (corpus length)"
   ]
  },
  {
   "cell_type": "code",
   "execution_count": 42,
   "metadata": {
    "scrolled": false
   },
   "outputs": [
    {
     "name": "stderr",
     "output_type": "stream",
     "text": [
      "INFO - 23:54:30: training model with 1 workers on 331 vocabulary and 100 features, using sg=0 hs=0 sample=0.001 negative=5 window=5\n",
      "INFO - 23:54:30: worker thread finished; awaiting finish of 0 more threads\n",
      "INFO - 23:54:30: EPOCH - 1 : training on 7017 raw words (2707 effective words) took 0.1s, 51683 effective words/s\n",
      "INFO - 23:54:30: worker thread finished; awaiting finish of 0 more threads\n",
      "INFO - 23:54:30: EPOCH - 2 : training on 7017 raw words (2696 effective words) took 0.0s, 66592 effective words/s\n",
      "INFO - 23:54:30: worker thread finished; awaiting finish of 0 more threads\n",
      "INFO - 23:54:30: EPOCH - 3 : training on 7017 raw words (2715 effective words) took 0.0s, 70761 effective words/s\n",
      "INFO - 23:54:30: worker thread finished; awaiting finish of 0 more threads\n",
      "INFO - 23:54:30: EPOCH - 4 : training on 7017 raw words (2701 effective words) took 0.0s, 74004 effective words/s\n",
      "INFO - 23:54:30: worker thread finished; awaiting finish of 0 more threads\n",
      "INFO - 23:54:30: EPOCH - 5 : training on 7017 raw words (2709 effective words) took 0.1s, 51227 effective words/s\n",
      "INFO - 23:54:30: worker thread finished; awaiting finish of 0 more threads\n",
      "INFO - 23:54:30: EPOCH - 6 : training on 7017 raw words (2692 effective words) took 0.0s, 68904 effective words/s\n",
      "INFO - 23:54:30: worker thread finished; awaiting finish of 0 more threads\n",
      "INFO - 23:54:30: EPOCH - 7 : training on 7017 raw words (2711 effective words) took 0.0s, 65343 effective words/s\n",
      "INFO - 23:54:30: worker thread finished; awaiting finish of 0 more threads\n",
      "INFO - 23:54:30: EPOCH - 8 : training on 7017 raw words (2728 effective words) took 0.0s, 60956 effective words/s\n",
      "INFO - 23:54:30: worker thread finished; awaiting finish of 0 more threads\n",
      "INFO - 23:54:30: EPOCH - 9 : training on 7017 raw words (2730 effective words) took 0.0s, 59920 effective words/s\n",
      "INFO - 23:54:30: worker thread finished; awaiting finish of 0 more threads\n",
      "INFO - 23:54:30: EPOCH - 10 : training on 7017 raw words (2734 effective words) took 0.0s, 62552 effective words/s\n",
      "INFO - 23:54:30: worker thread finished; awaiting finish of 0 more threads\n",
      "INFO - 23:54:30: EPOCH - 11 : training on 7017 raw words (2724 effective words) took 0.1s, 52715 effective words/s\n",
      "INFO - 23:54:30: worker thread finished; awaiting finish of 0 more threads\n",
      "INFO - 23:54:30: EPOCH - 12 : training on 7017 raw words (2734 effective words) took 0.1s, 50065 effective words/s\n",
      "INFO - 23:54:30: worker thread finished; awaiting finish of 0 more threads\n",
      "INFO - 23:54:30: EPOCH - 13 : training on 7017 raw words (2709 effective words) took 0.0s, 70344 effective words/s\n",
      "INFO - 23:54:30: worker thread finished; awaiting finish of 0 more threads\n",
      "INFO - 23:54:30: EPOCH - 14 : training on 7017 raw words (2731 effective words) took 0.1s, 37695 effective words/s\n",
      "INFO - 23:54:30: worker thread finished; awaiting finish of 0 more threads\n",
      "INFO - 23:54:30: EPOCH - 15 : training on 7017 raw words (2730 effective words) took 0.0s, 73646 effective words/s\n",
      "INFO - 23:54:30: worker thread finished; awaiting finish of 0 more threads\n",
      "INFO - 23:54:30: EPOCH - 16 : training on 7017 raw words (2713 effective words) took 0.0s, 84446 effective words/s\n",
      "INFO - 23:54:30: worker thread finished; awaiting finish of 0 more threads\n",
      "INFO - 23:54:30: EPOCH - 17 : training on 7017 raw words (2710 effective words) took 0.0s, 69988 effective words/s\n",
      "INFO - 23:54:30: worker thread finished; awaiting finish of 0 more threads\n",
      "INFO - 23:54:30: EPOCH - 18 : training on 7017 raw words (2716 effective words) took 0.0s, 70276 effective words/s\n",
      "INFO - 23:54:31: worker thread finished; awaiting finish of 0 more threads\n",
      "INFO - 23:54:31: EPOCH - 19 : training on 7017 raw words (2729 effective words) took 0.0s, 62695 effective words/s\n",
      "INFO - 23:54:31: worker thread finished; awaiting finish of 0 more threads\n",
      "INFO - 23:54:31: EPOCH - 20 : training on 7017 raw words (2727 effective words) took 0.0s, 58943 effective words/s\n",
      "INFO - 23:54:31: worker thread finished; awaiting finish of 0 more threads\n",
      "INFO - 23:54:31: EPOCH - 21 : training on 7017 raw words (2751 effective words) took 0.1s, 48250 effective words/s\n",
      "INFO - 23:54:31: worker thread finished; awaiting finish of 0 more threads\n",
      "INFO - 23:54:31: EPOCH - 22 : training on 7017 raw words (2718 effective words) took 0.1s, 51878 effective words/s\n",
      "INFO - 23:54:31: worker thread finished; awaiting finish of 0 more threads\n",
      "INFO - 23:54:31: EPOCH - 23 : training on 7017 raw words (2759 effective words) took 0.0s, 61727 effective words/s\n",
      "INFO - 23:54:31: worker thread finished; awaiting finish of 0 more threads\n",
      "INFO - 23:54:31: EPOCH - 24 : training on 7017 raw words (2722 effective words) took 0.0s, 70971 effective words/s\n",
      "INFO - 23:54:31: worker thread finished; awaiting finish of 0 more threads\n",
      "INFO - 23:54:31: EPOCH - 25 : training on 7017 raw words (2741 effective words) took 0.0s, 57281 effective words/s\n",
      "INFO - 23:54:31: worker thread finished; awaiting finish of 0 more threads\n",
      "INFO - 23:54:31: EPOCH - 26 : training on 7017 raw words (2709 effective words) took 0.0s, 75606 effective words/s\n",
      "INFO - 23:54:31: worker thread finished; awaiting finish of 0 more threads\n",
      "INFO - 23:54:31: EPOCH - 27 : training on 7017 raw words (2716 effective words) took 0.0s, 70824 effective words/s\n",
      "INFO - 23:54:31: worker thread finished; awaiting finish of 0 more threads\n",
      "INFO - 23:54:31: EPOCH - 28 : training on 7017 raw words (2729 effective words) took 0.1s, 53644 effective words/s\n",
      "INFO - 23:54:31: worker thread finished; awaiting finish of 0 more threads\n",
      "INFO - 23:54:31: EPOCH - 29 : training on 7017 raw words (2697 effective words) took 0.1s, 50235 effective words/s\n",
      "INFO - 23:54:31: worker thread finished; awaiting finish of 0 more threads\n",
      "INFO - 23:54:31: EPOCH - 30 : training on 7017 raw words (2734 effective words) took 0.0s, 70193 effective words/s\n",
      "INFO - 23:54:31: training on a 210510 raw words (81622 effective words) took 1.6s, 52277 effective words/s\n"
     ]
    },
    {
     "name": "stdout",
     "output_type": "stream",
     "text": [
      "Time to train the model: 0.03 mins\n"
     ]
    }
   ],
   "source": [
    "# Train model\n",
    "t = time()\n",
    "\n",
    "w2v_model.train(sentences, \n",
    "                total_examples=w2v_model.corpus_count, \n",
    "                epochs=30, \n",
    "                report_delay=1\n",
    "               )\n",
    "\n",
    "print(f'Time to train the model: {round((time() - t) / 60, 2)} mins')"
   ]
  },
  {
   "cell_type": "code",
   "execution_count": 43,
   "metadata": {},
   "outputs": [
    {
     "name": "stderr",
     "output_type": "stream",
     "text": [
      "INFO - 23:54:34: precomputing L2-norms of word weight vectors\n"
     ]
    }
   ],
   "source": [
    "# Pre compute L2-normalized vector\n",
    "# After this call, no more training can be done\n",
    "\n",
    "w2v_model.wv.init_sims(replace=True)"
   ]
  },
  {
   "cell_type": "markdown",
   "metadata": {},
   "source": [
    "## Vector representation\n",
    "Since Word2Vec model assignsa vector representation to each word, below are some of them."
   ]
  },
  {
   "cell_type": "code",
   "execution_count": 15,
   "metadata": {},
   "outputs": [
    {
     "data": {
      "text/plain": [
       "dict_keys(['nlp', 'natural', 'processamento_linguagem', 'português', 'tecnologia', 'usada', 'ajudar', 'linguagem', 'humano', 'maneira', 'responder', 'demandas', 'processo', 'simples', 'aplicativos', 'realizar', 'pesquisa', 'google', 'receber', 'resposta', 'qualidade', 'usam', 'linguagens', 'diferentes', 'preciso', 'permitir', 'compreensão', 'máquina', 'melhor', 'experiência', 'usuário', 'conversa', 'texto', 'inteligência_artificial', 'ia', 'desenvolver', 'capacidade', 'entender', 'seres_humanos', 'diferença', 'linguagem_natural', 'programação', 'humanos', 'pessoas', 'máquinas', 'comuns', 'podemos', 'criar', 'sistemas', 'aplicações', 'permite', 'entenda', 'usando', 'respostas', 'interações', 'exemplos', 'aplicação', 'chatbot', 'empresa', 'capaz', 'informações', 'contato', 'usuários', 'estrutura', 'complexos', 'sendo', 'possa', 'humana', 'conceitos', 'processamento', 'machine_learning', 'deep', 'learning', 'ml', 'aprendizado_máquina', 'assunto', 'redes', 'neurais', 'melhorar', 'fala', 'leia', 'funciona', 'uso', 'tecnologias', 'importante', 'melhores', 'experiências', 'necessidades', 'deseja', 'problema', 'cliente', 'sociais', 'capazes', 'conteúdo', 'canal', 'comunicação', 'oferecer', 'palavras', 'dia', 'banco', 'contexto', 'intenção', 'análise', 'diálogo', 'interação', 'precisa', 'principal', 'caso', 'razão', 'mensagem', 'via', 'mercado', 'ferramentas', 'dados', 'vídeo', 'aprender', 'principais', 'usos', 'coisas', 'plataforma', 'busca', 'artigo', 'passam', 'entendimento', 'resultados', 'feito', 'pensando', 'acontece', 'atualmente', 'existem', 'clientes', 'conhece', 'compreender', 'voz', 'outro', 'nlp_chatbot', 'lista', 'recente', 'estudo', 'organizações', 'chatbots', 'casos', 'presente', 'vida', 'software', 'mensagens', 'whatsapp', 'facebook', 'messenger', 'estratégia', 'marketing', 'empresas', 'atendimento', 'suporte', 'organização', 'ações', 'marketing_vendas', 'e-mail', 'desafios', 'continuar', 'evolução', 'conceito', 'manter', 'resolver', 'satisfação', 'tornar', 'relacionamento', 'negócios', 'consumidores', 'facilitar', 'tarefas', 'conta', 'dias', 'mundo', 'muitas', 'erros', 'regras', 'pessoa', 'extremamente', 'situação', 'ideia', 'implementação', 'conjunto', 'bot', 'seguir', 'dialogflow', 'luis', 'microsoft', 'quase', 'oferece', 'criação', 'provedor', 'brasil', 'recursos', 'construir', 'bots', 'machine', 'canais', 'digitais', 'nome', 'service', 'serviço', 'objetivo', 'inteligência', 'baseado', 'solução', 'comum', 'maneiras', 'vantagens', 'benefícios', 'dúvidas', 'blip', 'criada', 'take', 'provedores', 'watson', 'eficiente', 'conheça', 'soluções', 'serviços', 'equipe', 'processos', 'provedores_nlp', 'inteligencia_artificial', 'traz', 'experiência_cliente', 'post', 'negócio', 'usado', 'plataformas', 'ibm', 'entidades', 'formas', 'frases', 'valores', 'mesma', 'utilizar', 'construção', 'agentes', 'possui', 'tipos', 'conhecer', 'ajuda', 'time', 'inovação', 'velocidade', 'fundamental', 'novidades', 'confira', 'brasileiro', 'diversas', 'evento', 'tendências', 'edição', 'tema', 'big_data', 'principalmente', 'internet', 'segurança', 'informação', 'sucesso', 'trabalhar', 'horas', 'curso', 'desenvolvimento', 'longo', 'áreas', 'gestão', 'inteligentes', 'colocar', 'prática', 'estratégias', 'pensar', 'avanço', 'entretanto', 'decisões', 'redução', 'difícil', 'automação', 'vendas', 'desempenho', 'algoritmos', 'n', 'produtos', 'verdadeira', 'transformação_digital', 'público', 'rápida', 'volume', 'produto', 'práticas', 'algoritmo', 'hub', 'tomada_decisão', 'conteúdos', 'hub_inteligência', 'artificial', 'hoje', 'custo', 'disponíveis', 'trabalho', 'necessidade', 'ferramenta', 'oportunidades', 'trabalhar_inteligência', 'milhões', 'várias', 'etc', 'analista', 'sites', 'necessário', 'frentes', 'possibilidades', 'pergunta', 'sucesso_cliente', 'diretrizes', 'marcas', 'gente', 'compra', 'marca', 'escalabilidade', 'gerar', 'digital', 'passo', 'perguntas', 'testes', 'vamos', 'semana', 'quantidade_dados', 'bancos', 'perfil'])"
      ]
     },
     "execution_count": 15,
     "metadata": {},
     "output_type": "execute_result"
    }
   ],
   "source": [
    "w2v_model.wv.vocab.keys()"
   ]
  },
  {
   "cell_type": "code",
   "execution_count": 44,
   "metadata": {},
   "outputs": [],
   "source": [
    "def print_w2v(w2v_model, word):\n",
    "    print(f'Vector of word \"{word}\"')\n",
    "    print(w2v_model.wv.word_vec(word))"
   ]
  },
  {
   "cell_type": "code",
   "execution_count": 45,
   "metadata": {},
   "outputs": [
    {
     "name": "stdout",
     "output_type": "stream",
     "text": [
      "Vector of word \"nlp\"\n",
      "[-0.04188584  0.06719436 -0.0403745  -0.05763399  0.1200383   0.02971167\n",
      "  0.00939963 -0.18076131  0.06899582 -0.00326944  0.15942822 -0.07583037\n",
      " -0.14075772 -0.03933319 -0.01216321 -0.06848477  0.08049814  0.01074392\n",
      " -0.2027448  -0.07152559 -0.11785131 -0.05458876  0.16095541 -0.08127857\n",
      " -0.03797134  0.04298215  0.07092006 -0.00366016  0.10202079 -0.01997321\n",
      " -0.04082447 -0.02155511  0.0428853  -0.14776343 -0.10508402  0.08199786\n",
      " -0.09852085  0.04930529 -0.07975025 -0.01530572  0.04710862  0.04088672\n",
      "  0.10252611 -0.00066516  0.10454635 -0.21372087 -0.03941156  0.1371151\n",
      "  0.14510486 -0.12861946  0.04528499 -0.16291687  0.05205791  0.07471347\n",
      " -0.08909948 -0.10565488  0.02466357  0.05463935 -0.11390325  0.0543966\n",
      "  0.07776927  0.07979232 -0.04790214  0.05160046  0.01284761 -0.03052264\n",
      " -0.12191271  0.1265422   0.00499388 -0.13775317 -0.06603042 -0.14913861\n",
      " -0.02648721 -0.10436077  0.07211625  0.10179307 -0.06104767 -0.16034444\n",
      " -0.01370567 -0.02649638  0.09071898  0.14931746 -0.00430723  0.11322761\n",
      "  0.18674481 -0.2479998   0.1913058   0.14746727 -0.05222091  0.03293247\n",
      "  0.19535388 -0.12396009 -0.02992985  0.0103469  -0.03597261 -0.12169862\n",
      " -0.06677026  0.0781059  -0.18710461  0.14120857]\n",
      "Vector of word \"machine_learning\"\n",
      "[-0.03014218  0.06956764 -0.05922058 -0.06368649  0.1110234   0.03154942\n",
      "  0.01342082 -0.19156691  0.048407    0.00787509  0.1806601  -0.13942733\n",
      " -0.14160173 -0.03715589  0.01464303 -0.06754007  0.12881407 -0.01774646\n",
      " -0.17391369 -0.06712122 -0.12139798 -0.02794988  0.14910509 -0.1322329\n",
      " -0.03525053  0.05219107  0.04761129  0.01946711  0.11198024  0.00113912\n",
      " -0.02136047 -0.01272424  0.08211396 -0.13776943 -0.07199316  0.05708707\n",
      " -0.07115836  0.06692357 -0.07522684 -0.00987357  0.06563549  0.03812629\n",
      "  0.09251203  0.0024404   0.1353361  -0.16936345 -0.06121891  0.11468484\n",
      "  0.14751858 -0.12734617  0.03239629 -0.13798702  0.04921484  0.05348948\n",
      " -0.10062721 -0.07975858  0.0296794   0.02985357 -0.09250566  0.04674922\n",
      "  0.11105431  0.09843033 -0.047841    0.0469407   0.01712942 -0.02176691\n",
      " -0.12152547  0.12933311  0.00164713 -0.11189808 -0.03189757 -0.15602177\n",
      " -0.01061053 -0.09164499  0.04808579  0.12783806 -0.05735999 -0.15579998\n",
      " -0.02534653 -0.02405611  0.07858259  0.17003605 -0.01120248  0.11739781\n",
      "  0.18331988 -0.2860586   0.20291364  0.13894013 -0.08444641  0.04065756\n",
      "  0.18289554 -0.1363056  -0.04054276  0.0266839  -0.03744726 -0.1126956\n",
      " -0.05195767  0.0758185  -0.17145678  0.12824889]\n"
     ]
    }
   ],
   "source": [
    "print_w2v(w2v_model, 'nlp')\n",
    "print_w2v(w2v_model, 'machine_learning')"
   ]
  },
  {
   "cell_type": "markdown",
   "metadata": {},
   "source": [
    "## Most similar\n",
    "Word embeddings enables us to find similarities along the vector space through calculations such as cosine one. Below we have top 10 similar word for 3 words present in the vocabulary."
   ]
  },
  {
   "cell_type": "code",
   "execution_count": 18,
   "metadata": {},
   "outputs": [],
   "source": [
    "def top_10_similar(w2v_model, word):\n",
    "    words = w2v_model.wv.most_similar(positive=[word])\n",
    "    words = [w[0] for w in words]\n",
    "    print(f'Top 10 similar words for {word}: {words}')"
   ]
  },
  {
   "cell_type": "code",
   "execution_count": 19,
   "metadata": {},
   "outputs": [
    {
     "name": "stdout",
     "output_type": "stream",
     "text": [
      "Top 10 similar words for aprender: ['diversas', 'objetivo', 'agentes', 'negócios', 'manter', 'inteligência_artificial', 'uso', 'bots', 'chatbots', 'conteúdo']\n",
      "Top 10 similar words for machine_learning: ['aprendizado_máquina', 'inteligência_artificial', 'sistemas', 'assunto', 'principais', 'fala', 'ia', 'artificial', 'compreender', 'redes']\n",
      "Top 10 similar words for inteligência_artificial: ['vídeo', 'ia', 'contexto', 'aprender', 'principais', 'aprendizado_máquina', 'pessoas', 'conjunto', 'sistemas', 'intenção']\n",
      "Top 10 similar words for nlp: ['inteligência_artificial', 'sistemas', 'natural', 'conversa', 'máquina', 'usuário', 'valores', 'linguagem', 'contexto', 'linguagens']\n"
     ]
    }
   ],
   "source": [
    "top_10_similar(w2v_model, 'aprender')\n",
    "top_10_similar(w2v_model, 'machine_learning')\n",
    "top_10_similar(w2v_model, 'inteligência_artificial')\n",
    "top_10_similar(w2v_model, 'nlp')"
   ]
  },
  {
   "cell_type": "markdown",
   "metadata": {},
   "source": [
    "## Analogy difference\n",
    "Vector representations also enables us to sum and/or subtract words from other, leading to highly informative concepts as shown below."
   ]
  },
  {
   "cell_type": "code",
   "execution_count": 20,
   "metadata": {},
   "outputs": [],
   "source": [
    "def vector_association(w2v_model, positive_words, negative_word):\n",
    "    words = w2v_model.wv.most_similar(positive=positive_words, \n",
    "                                      negative=[negative_word],\n",
    "                                      topn=1)\n",
    "    words = [w[0] for w in words]\n",
    "    print(f'Which word is to \"{positive_words[0]}\" as \"{positive_words[1]}\" is to \"{negative_word}\"? {words}')"
   ]
  },
  {
   "cell_type": "code",
   "execution_count": 46,
   "metadata": {},
   "outputs": [
    {
     "name": "stdout",
     "output_type": "stream",
     "text": [
      "Which word is to \"chatbots\" as \"nlp\" is to \"machine_learning\"? ['criar']\n",
      "Which word is to \"usuário\" as \"nlp\" is to \"inteligência_artificial\"? ['resposta']\n"
     ]
    }
   ],
   "source": [
    "vector_association(w2v_model, ['chatbots', 'nlp'], \n",
    "                   'machine_learning')\n",
    "\n",
    "vector_association(w2v_model, ['usuário', 'nlp'], \n",
    "                   'inteligência_artificial')"
   ]
  },
  {
   "cell_type": "markdown",
   "metadata": {},
   "source": [
    "## Odd-One-Out\n",
    "If we want to know the word that deviates the most from a list of terms, we can ask for the most odd one"
   ]
  },
  {
   "cell_type": "code",
   "execution_count": 22,
   "metadata": {},
   "outputs": [],
   "source": [
    "def odd_one_out(w2v_model, words):\n",
    "    word = w2v_model.wv.doesnt_match(words)\n",
    "    print(f\"Which word doesn't fit in the list: {words}? {word}\")"
   ]
  },
  {
   "cell_type": "code",
   "execution_count": 23,
   "metadata": {},
   "outputs": [
    {
     "name": "stdout",
     "output_type": "stream",
     "text": [
      "Which word doesn't fit in the list: ['nlp', 'inteligência_artificial', 'evento']? evento\n"
     ]
    },
    {
     "name": "stderr",
     "output_type": "stream",
     "text": [
      "/home/ceciliassis/pessoal/machine-learning/natural-language-processing/word2vec/venv/lib/python3.7/site-packages/gensim/models/keyedvectors.py:877: FutureWarning: arrays to stack must be passed as a \"sequence\" type such as list or tuple. Support for non-sequence iterables such as generators is deprecated as of NumPy 1.16 and will raise an error in the future.\n",
      "  vectors = vstack(self.word_vec(word, use_norm=True) for word in used_words).astype(REAL)\n"
     ]
    }
   ],
   "source": [
    "odd_one_out(w2v_model, ['nlp', 'inteligência_artificial', 'evento'])"
   ]
  },
  {
   "cell_type": "markdown",
   "metadata": {},
   "source": [
    "## t-SNE visualization\n",
    "t-SNE (t-Distributed Stochastic Neighbor Embedding) is a technique for dimensionality reductition. Since humans are more confortable with spaces up to 3 dimensions, this kind of method helps to see how data fit on the explored vector space. \n",
    "\n",
    "For more info, see [Visualising high-dimensional datasets using PCA and t-SNE in Python](https://towardsdatascience.com/visualising-high-dimensional-datasets-using-pca-and-t-sne-in-python-8ef87e7915b) and [sklearn.manifold.TSNE](https://scikit-learn.org/stable/modules/generated/sklearn.manifold.TSNE.html)."
   ]
  },
  {
   "cell_type": "code",
   "execution_count": 24,
   "metadata": {},
   "outputs": [
    {
     "name": "stdout",
     "output_type": "stream",
     "text": [
      "Current word embedding dimension: (100,)\n"
     ]
    }
   ],
   "source": [
    "import numpy as np\n",
    "import pandas as pd\n",
    "import matplotlib.pyplot as plt\n",
    "%matplotlib inline\n",
    "\n",
    "import seaborn as sns\n",
    "sns.set_style(\"darkgrid\")\n",
    "\n",
    "from sklearn.decomposition import PCA\n",
    "from sklearn.manifold import TSNE\n",
    "\n",
    "print(f'Current word embedding dimension: {w2v_model.wv.get_vector(\"nlp\").shape}')"
   ]
  },
  {
   "cell_type": "code",
   "execution_count": 25,
   "metadata": {},
   "outputs": [],
   "source": [
    "def tsne_representation(w2v_model, word):\n",
    "    w2v_labels = [word]\n",
    "    w2v_colors = ['red']\n",
    "    w2v_arrays = np.empty((0,100), dtype='f')\n",
    "\n",
    "    w2v = w2v_model.wv.word_vec(\"nlp\")\n",
    "    w2v_arrays = np.append(w2v_arrays, [w2v], axis=0) \n",
    "\n",
    "    # Add similar words to w2v array\n",
    "    most_similar = w2v_model.wv.most_similar([word])\n",
    "    w2v_colors.extend(['black'] * len(most_similar))\n",
    "    for word_score in most_similar:\n",
    "        w2v_labels.append(word_score[0])\n",
    "        w2v = w2v_model.wv.word_vec(word_score[0])\n",
    "        w2v_arrays = np.append(w2v_arrays, [w2v], axis=0)\n",
    "    \n",
    "    # reduce w2v dims\n",
    "    t = time()\n",
    "    pca = PCA(n_components=5).fit_transform(w2v_arrays)\n",
    "    print(f'Time to train PCA: {round((time() - t) / 60, 2)} mins')\n",
    "    \n",
    "    t = time()\n",
    "    tsne = TSNE(n_components=2, random_state=0).fit_transform(pca)    \n",
    "    print(f'Time to train TSNE: {round((time() - t) / 60, 2)} mins')\n",
    "    \n",
    "    tsne_dataframe = pd.DataFrame({'x': [x for x in tsne[:, 0]],\n",
    "                                   'y': [y for y in tsne[:, 1]],\n",
    "                                   'word': w2v_labels,\n",
    "                                   'color': w2v_colors})\n",
    "    \n",
    "    # Define plot\n",
    "    fig = plt.figure(figsize=(10, 10))\n",
    "    \n",
    "    plot = sns.regplot(data=tsne_dataframe,\n",
    "                       x='x', \n",
    "                       y='y',\n",
    "                       fit_reg=False, \n",
    "                       marker='o', \n",
    "                       scatter_kws={\n",
    "                        's': 40, \n",
    "                           'facecolors': tsne_dataframe['color']\n",
    "                       })\n",
    "    \n",
    "    \n",
    "    # Set annotations\n",
    "    for line in range(0, tsne_dataframe.shape[0]):\n",
    "        plt.text(tsne_dataframe['x'][line], \n",
    "                tsne_dataframe['y'][line], \n",
    "                ' ' + tsne_dataframe['word'][line],\n",
    "                horizontalalignment='left',\n",
    "                verticalalignment='bottom', \n",
    "                size='medium',\n",
    "                color=tsne_dataframe['color'][line],\n",
    "                weight='normal'\n",
    "               ).set_size(15)\n",
    "        \n",
    "    plt.title(f't-SNE visualization for {word}')"
   ]
  },
  {
   "cell_type": "code",
   "execution_count": 26,
   "metadata": {
    "scrolled": false
   },
   "outputs": [
    {
     "name": "stdout",
     "output_type": "stream",
     "text": [
      "Time to train PCA: 0.0 mins\n",
      "Time to train TSNE: 1.5 mins\n"
     ]
    },
    {
     "data": {
      "image/png": "[encoded data removed]",
      "text/plain": [
       "<Figure size 720x720 with 1 Axes>"
      ]
     },
     "metadata": {},
     "output_type": "display_data"
    }
   ],
   "source": [
    "tsne_representation(w2v_model, 'machine_learning')"
   ]
  },
  {
   "cell_type": "code",
   "execution_count": 27,
   "metadata": {},
   "outputs": [
    {
     "name": "stdout",
     "output_type": "stream",
     "text": [
      "Time to train PCA: 0.0 mins\n",
      "Time to train TSNE: 1.31 mins\n"
     ]
    },
    {
     "data": {
      "image/png": "[encoded data removed]",
      "text/plain": [
       "<Figure size 720x720 with 1 Axes>"
      ]
     },
     "metadata": {},
     "output_type": "display_data"
    }
   ],
   "source": [
    "tsne_representation(w2v_model, 'linguagem_natural')"
   ]
  },
  {
   "cell_type": "markdown",
   "metadata": {},
   "source": [
    "## Summary\n",
    "Word embeddings allows us to match words against their context, enabling important discoveries.\n",
    "\n",
    "The results show that through the recovered blog posts, the term \"linguagem_natural\" (natural language) is associated with words like \"compreensão\" (understanding), \"inteligência_artificial\" (artificial inteligence), \"máquinas\" (machines)  e \"pessoas\" (people) which demonstrate well current scenario that NLP is inserted into. Another important result comes from the analogies between vocabulary terms, showing that users today are looking for answers and that \"create\" is \"chatbots\" as \"machine learning\" is to \"nlp\".\n",
    "\n",
    "Finally, the term \"machine_learning\" was correctly associated with \"aprendizado_máquina\" (machine_learning), \"redes\" (networks), \"inteligência_artificial\" (artificial inteligence) and \"sistemas\" (systems), words that are very close to what \"machine_learning\" represents."
   ]
  },
  {
   "cell_type": "markdown",
   "metadata": {},
   "source": [
    "### Thanks to:\n",
    "- https://www.kaggle.com/pierremegret/gensim-word2vec-tutorial"
   ]
  }
 ],
 "metadata": {
  "kernelspec": {
   "display_name": "Python 3",
   "language": "python",
   "name": "python3"
  },
  "language_info": {
   "codemirror_mode": {
    "name": "ipython",
    "version": 3
   },
   "file_extension": ".py",
   "mimetype": "text/x-python",
   "name": "python",
   "nbconvert_exporter": "python",
   "pygments_lexer": "ipython3",
   "version": "3.7.5"
  }
 },
 "nbformat": 4,
 "nbformat_minor": 2
}
